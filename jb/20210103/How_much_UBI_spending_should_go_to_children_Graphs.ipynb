{
 "cells": [
  {
   "cell_type": "markdown",
   "metadata": {},
   "source": [
    "# How much UBI spending should go to children?\n",
    "\n",
    "While the idea of a universal basic income has been around for centuries, it was recently brought into mainstream American political discourse by 2020 Presidential candidate Andrew Yang. Yang centered his campaign around paying every adult citizen \\$1,000 each month. Many other countries take the opposite approach, providing monthly payments for each child (known as a [\"child allowance\"](http://child-allowance.ubicenter.org)), and US lawmakers have proposed [similar policies](https://www.vox.com/future-perfect/2019/3/6/18249290/child-poverty-american-family-act-sherrod-brown-michael-bennet). Here we explore which approach is more effective at reducing poverty and inequality.\n",
    "\n",
    "In a [July 2020 post](https://blog.ubicenter.org/20200707/adult_child_ubi.html), we found that a child allowance would be more effective at reducing poverty than an adult UBI, for spending levels up to \\$500 billion, at which point a UBI for both children and adults before more effective; adult-only UBI was never the best option. But those three options--adults only, kids only, and equal for adults and kids--aren't the only ones available. In this post, we calculate the optimal ratios of adult to child UBIs, depending on the total spending and objective."
   ]
  },
  {
   "cell_type": "code",
   "execution_count": 9,
   "metadata": {
    "tags": [
     "hide-input"
    ]
   },
   "outputs": [
    {
     "data": {
      "application/vnd.plotly.v1+json": {
       "config": {
        "displayModeBar": false,
        "plotlyServerURL": "https://plot.ly"
       },
       "data": [
        {
         "legendgroup": "Child allowance",
         "line": {
          "color": "#1565C0",
          "dash": "solid"
         },
         "mode": "markers+lines",
         "name": "Child allowance",
         "orientation": "v",
         "showlegend": true,
         "type": "scatter",
         "x": [
          0,
          50,
          100,
          150,
          200,
          250,
          300,
          350,
          400,
          450,
          500,
          550,
          600,
          650,
          700,
          750,
          800,
          850,
          900,
          950,
          1000
         ],
         "xaxis": "x",
         "y": [
          12.7,
          12,
          11.3,
          10.7,
          10.2,
          9.8,
          9.5,
          9.1,
          8.799999999999997,
          8.6,
          8.4,
          8.3,
          8.1,
          8,
          7.8,
          7.7,
          7.6,
          7.5,
          7.399999999999999,
          7.3,
          7.3
         ],
         "yaxis": "y"
        },
        {
         "legendgroup": "Adult UBI",
         "line": {
          "color": "#90CAF9",
          "dash": "solid"
         },
         "mode": "markers+lines",
         "name": "Adult UBI",
         "orientation": "v",
         "showlegend": true,
         "type": "scatter",
         "x": [
          0,
          50,
          100,
          150,
          200,
          250,
          300,
          350,
          400,
          450,
          500,
          550,
          600,
          650,
          700,
          750,
          800,
          850,
          900,
          950,
          1000
         ],
         "xaxis": "x",
         "y": [
          12.7,
          12.3,
          11.9,
          11.5,
          11.1,
          10.7,
          10.3,
          9.9,
          9.6,
          9.2,
          8.9,
          8.6,
          8.3,
          8,
          7.7,
          7.5,
          7.199999999999998,
          6.9,
          6.7,
          6.4,
          6.2
         ],
         "yaxis": "y"
        },
        {
         "legendgroup": "All UBI",
         "line": {
          "color": "#BDBDBD",
          "dash": "solid"
         },
         "mode": "markers+lines",
         "name": "All UBI",
         "orientation": "v",
         "showlegend": true,
         "type": "scatter",
         "x": [
          0,
          50,
          100,
          150,
          200,
          250,
          300,
          350,
          400,
          450,
          500,
          550,
          600,
          650,
          700,
          750,
          800,
          850,
          900,
          950,
          1000
         ],
         "xaxis": "x",
         "y": [
          12.7,
          12.3,
          11.8,
          11.3,
          10.8,
          10.3,
          9.9,
          9.5,
          9.1,
          8.7,
          8.4,
          8.1,
          7.8,
          7.5,
          7.199999999999998,
          6.9,
          6.6000000000000005,
          6.4,
          6.2,
          5.9,
          5.7
         ],
         "yaxis": "y"
        }
       ],
       "layout": {
        "autosize": true,
        "font": {
         "family": "Roboto"
        },
        "hovermode": "x",
        "legend": {
         "title": {
          "text": ""
         },
         "tracegroupgap": 0
        },
        "margin": {
         "t": 60
        },
        "plot_bgcolor": "white",
        "template": {
         "data": {
          "bar": [
           {
            "error_x": {
             "color": "#2a3f5f"
            },
            "error_y": {
             "color": "#2a3f5f"
            },
            "marker": {
             "line": {
              "color": "#E5ECF6",
              "width": 0.5
             }
            },
            "type": "bar"
           }
          ],
          "barpolar": [
           {
            "marker": {
             "line": {
              "color": "#E5ECF6",
              "width": 0.5
             }
            },
            "type": "barpolar"
           }
          ],
          "carpet": [
           {
            "aaxis": {
             "endlinecolor": "#2a3f5f",
             "gridcolor": "white",
             "linecolor": "white",
             "minorgridcolor": "white",
             "startlinecolor": "#2a3f5f"
            },
            "baxis": {
             "endlinecolor": "#2a3f5f",
             "gridcolor": "white",
             "linecolor": "white",
             "minorgridcolor": "white",
             "startlinecolor": "#2a3f5f"
            },
            "type": "carpet"
           }
          ],
          "choropleth": [
           {
            "colorbar": {
             "outlinewidth": 0,
             "ticks": ""
            },
            "type": "choropleth"
           }
          ],
          "contour": [
           {
            "colorbar": {
             "outlinewidth": 0,
             "ticks": ""
            },
            "colorscale": [
             [
              0,
              "#0d0887"
             ],
             [
              0.1111111111111111,
              "#46039f"
             ],
             [
              0.2222222222222222,
              "#7201a8"
             ],
             [
              0.3333333333333333,
              "#9c179e"
             ],
             [
              0.4444444444444444,
              "#bd3786"
             ],
             [
              0.5555555555555556,
              "#d8576b"
             ],
             [
              0.6666666666666666,
              "#ed7953"
             ],
             [
              0.7777777777777778,
              "#fb9f3a"
             ],
             [
              0.8888888888888888,
              "#fdca26"
             ],
             [
              1,
              "#f0f921"
             ]
            ],
            "type": "contour"
           }
          ],
          "contourcarpet": [
           {
            "colorbar": {
             "outlinewidth": 0,
             "ticks": ""
            },
            "type": "contourcarpet"
           }
          ],
          "heatmap": [
           {
            "colorbar": {
             "outlinewidth": 0,
             "ticks": ""
            },
            "colorscale": [
             [
              0,
              "#0d0887"
             ],
             [
              0.1111111111111111,
              "#46039f"
             ],
             [
              0.2222222222222222,
              "#7201a8"
             ],
             [
              0.3333333333333333,
              "#9c179e"
             ],
             [
              0.4444444444444444,
              "#bd3786"
             ],
             [
              0.5555555555555556,
              "#d8576b"
             ],
             [
              0.6666666666666666,
              "#ed7953"
             ],
             [
              0.7777777777777778,
              "#fb9f3a"
             ],
             [
              0.8888888888888888,
              "#fdca26"
             ],
             [
              1,
              "#f0f921"
             ]
            ],
            "type": "heatmap"
           }
          ],
          "heatmapgl": [
           {
            "colorbar": {
             "outlinewidth": 0,
             "ticks": ""
            },
            "colorscale": [
             [
              0,
              "#0d0887"
             ],
             [
              0.1111111111111111,
              "#46039f"
             ],
             [
              0.2222222222222222,
              "#7201a8"
             ],
             [
              0.3333333333333333,
              "#9c179e"
             ],
             [
              0.4444444444444444,
              "#bd3786"
             ],
             [
              0.5555555555555556,
              "#d8576b"
             ],
             [
              0.6666666666666666,
              "#ed7953"
             ],
             [
              0.7777777777777778,
              "#fb9f3a"
             ],
             [
              0.8888888888888888,
              "#fdca26"
             ],
             [
              1,
              "#f0f921"
             ]
            ],
            "type": "heatmapgl"
           }
          ],
          "histogram": [
           {
            "marker": {
             "colorbar": {
              "outlinewidth": 0,
              "ticks": ""
             }
            },
            "type": "histogram"
           }
          ],
          "histogram2d": [
           {
            "colorbar": {
             "outlinewidth": 0,
             "ticks": ""
            },
            "colorscale": [
             [
              0,
              "#0d0887"
             ],
             [
              0.1111111111111111,
              "#46039f"
             ],
             [
              0.2222222222222222,
              "#7201a8"
             ],
             [
              0.3333333333333333,
              "#9c179e"
             ],
             [
              0.4444444444444444,
              "#bd3786"
             ],
             [
              0.5555555555555556,
              "#d8576b"
             ],
             [
              0.6666666666666666,
              "#ed7953"
             ],
             [
              0.7777777777777778,
              "#fb9f3a"
             ],
             [
              0.8888888888888888,
              "#fdca26"
             ],
             [
              1,
              "#f0f921"
             ]
            ],
            "type": "histogram2d"
           }
          ],
          "histogram2dcontour": [
           {
            "colorbar": {
             "outlinewidth": 0,
             "ticks": ""
            },
            "colorscale": [
             [
              0,
              "#0d0887"
             ],
             [
              0.1111111111111111,
              "#46039f"
             ],
             [
              0.2222222222222222,
              "#7201a8"
             ],
             [
              0.3333333333333333,
              "#9c179e"
             ],
             [
              0.4444444444444444,
              "#bd3786"
             ],
             [
              0.5555555555555556,
              "#d8576b"
             ],
             [
              0.6666666666666666,
              "#ed7953"
             ],
             [
              0.7777777777777778,
              "#fb9f3a"
             ],
             [
              0.8888888888888888,
              "#fdca26"
             ],
             [
              1,
              "#f0f921"
             ]
            ],
            "type": "histogram2dcontour"
           }
          ],
          "mesh3d": [
           {
            "colorbar": {
             "outlinewidth": 0,
             "ticks": ""
            },
            "type": "mesh3d"
           }
          ],
          "parcoords": [
           {
            "line": {
             "colorbar": {
              "outlinewidth": 0,
              "ticks": ""
             }
            },
            "type": "parcoords"
           }
          ],
          "pie": [
           {
            "automargin": true,
            "type": "pie"
           }
          ],
          "scatter": [
           {
            "marker": {
             "colorbar": {
              "outlinewidth": 0,
              "ticks": ""
             }
            },
            "type": "scatter"
           }
          ],
          "scatter3d": [
           {
            "line": {
             "colorbar": {
              "outlinewidth": 0,
              "ticks": ""
             }
            },
            "marker": {
             "colorbar": {
              "outlinewidth": 0,
              "ticks": ""
             }
            },
            "type": "scatter3d"
           }
          ],
          "scattercarpet": [
           {
            "marker": {
             "colorbar": {
              "outlinewidth": 0,
              "ticks": ""
             }
            },
            "type": "scattercarpet"
           }
          ],
          "scattergeo": [
           {
            "marker": {
             "colorbar": {
              "outlinewidth": 0,
              "ticks": ""
             }
            },
            "type": "scattergeo"
           }
          ],
          "scattergl": [
           {
            "marker": {
             "colorbar": {
              "outlinewidth": 0,
              "ticks": ""
             }
            },
            "type": "scattergl"
           }
          ],
          "scattermapbox": [
           {
            "marker": {
             "colorbar": {
              "outlinewidth": 0,
              "ticks": ""
             }
            },
            "type": "scattermapbox"
           }
          ],
          "scatterpolar": [
           {
            "marker": {
             "colorbar": {
              "outlinewidth": 0,
              "ticks": ""
             }
            },
            "type": "scatterpolar"
           }
          ],
          "scatterpolargl": [
           {
            "marker": {
             "colorbar": {
              "outlinewidth": 0,
              "ticks": ""
             }
            },
            "type": "scatterpolargl"
           }
          ],
          "scatterternary": [
           {
            "marker": {
             "colorbar": {
              "outlinewidth": 0,
              "ticks": ""
             }
            },
            "type": "scatterternary"
           }
          ],
          "surface": [
           {
            "colorbar": {
             "outlinewidth": 0,
             "ticks": ""
            },
            "colorscale": [
             [
              0,
              "#0d0887"
             ],
             [
              0.1111111111111111,
              "#46039f"
             ],
             [
              0.2222222222222222,
              "#7201a8"
             ],
             [
              0.3333333333333333,
              "#9c179e"
             ],
             [
              0.4444444444444444,
              "#bd3786"
             ],
             [
              0.5555555555555556,
              "#d8576b"
             ],
             [
              0.6666666666666666,
              "#ed7953"
             ],
             [
              0.7777777777777778,
              "#fb9f3a"
             ],
             [
              0.8888888888888888,
              "#fdca26"
             ],
             [
              1,
              "#f0f921"
             ]
            ],
            "type": "surface"
           }
          ],
          "table": [
           {
            "cells": {
             "fill": {
              "color": "#EBF0F8"
             },
             "line": {
              "color": "white"
             }
            },
            "header": {
             "fill": {
              "color": "#C8D4E3"
             },
             "line": {
              "color": "white"
             }
            },
            "type": "table"
           }
          ]
         },
         "layout": {
          "annotationdefaults": {
           "arrowcolor": "#2a3f5f",
           "arrowhead": 0,
           "arrowwidth": 1
          },
          "coloraxis": {
           "colorbar": {
            "outlinewidth": 0,
            "ticks": ""
           }
          },
          "colorscale": {
           "diverging": [
            [
             0,
             "#8e0152"
            ],
            [
             0.1,
             "#c51b7d"
            ],
            [
             0.2,
             "#de77ae"
            ],
            [
             0.3,
             "#f1b6da"
            ],
            [
             0.4,
             "#fde0ef"
            ],
            [
             0.5,
             "#f7f7f7"
            ],
            [
             0.6,
             "#e6f5d0"
            ],
            [
             0.7,
             "#b8e186"
            ],
            [
             0.8,
             "#7fbc41"
            ],
            [
             0.9,
             "#4d9221"
            ],
            [
             1,
             "#276419"
            ]
           ],
           "sequential": [
            [
             0,
             "#0d0887"
            ],
            [
             0.1111111111111111,
             "#46039f"
            ],
            [
             0.2222222222222222,
             "#7201a8"
            ],
            [
             0.3333333333333333,
             "#9c179e"
            ],
            [
             0.4444444444444444,
             "#bd3786"
            ],
            [
             0.5555555555555556,
             "#d8576b"
            ],
            [
             0.6666666666666666,
             "#ed7953"
            ],
            [
             0.7777777777777778,
             "#fb9f3a"
            ],
            [
             0.8888888888888888,
             "#fdca26"
            ],
            [
             1,
             "#f0f921"
            ]
           ],
           "sequentialminus": [
            [
             0,
             "#0d0887"
            ],
            [
             0.1111111111111111,
             "#46039f"
            ],
            [
             0.2222222222222222,
             "#7201a8"
            ],
            [
             0.3333333333333333,
             "#9c179e"
            ],
            [
             0.4444444444444444,
             "#bd3786"
            ],
            [
             0.5555555555555556,
             "#d8576b"
            ],
            [
             0.6666666666666666,
             "#ed7953"
            ],
            [
             0.7777777777777778,
             "#fb9f3a"
            ],
            [
             0.8888888888888888,
             "#fdca26"
            ],
            [
             1,
             "#f0f921"
            ]
           ]
          },
          "colorway": [
           "#636efa",
           "#EF553B",
           "#00cc96",
           "#ab63fa",
           "#FFA15A",
           "#19d3f3",
           "#FF6692",
           "#B6E880",
           "#FF97FF",
           "#FECB52"
          ],
          "font": {
           "color": "#2a3f5f"
          },
          "geo": {
           "bgcolor": "white",
           "lakecolor": "white",
           "landcolor": "#E5ECF6",
           "showlakes": true,
           "showland": true,
           "subunitcolor": "white"
          },
          "hoverlabel": {
           "align": "left"
          },
          "hovermode": "closest",
          "mapbox": {
           "style": "light"
          },
          "paper_bgcolor": "white",
          "plot_bgcolor": "#E5ECF6",
          "polar": {
           "angularaxis": {
            "gridcolor": "white",
            "linecolor": "white",
            "ticks": ""
           },
           "bgcolor": "#E5ECF6",
           "radialaxis": {
            "gridcolor": "white",
            "linecolor": "white",
            "ticks": ""
           }
          },
          "scene": {
           "xaxis": {
            "backgroundcolor": "#E5ECF6",
            "gridcolor": "white",
            "gridwidth": 2,
            "linecolor": "white",
            "showbackground": true,
            "ticks": "",
            "zerolinecolor": "white"
           },
           "yaxis": {
            "backgroundcolor": "#E5ECF6",
            "gridcolor": "white",
            "gridwidth": 2,
            "linecolor": "white",
            "showbackground": true,
            "ticks": "",
            "zerolinecolor": "white"
           },
           "zaxis": {
            "backgroundcolor": "#E5ECF6",
            "gridcolor": "white",
            "gridwidth": 2,
            "linecolor": "white",
            "showbackground": true,
            "ticks": "",
            "zerolinecolor": "white"
           }
          },
          "shapedefaults": {
           "line": {
            "color": "#2a3f5f"
           }
          },
          "ternary": {
           "aaxis": {
            "gridcolor": "white",
            "linecolor": "white",
            "ticks": ""
           },
           "baxis": {
            "gridcolor": "white",
            "linecolor": "white",
            "ticks": ""
           },
           "bgcolor": "#E5ECF6",
           "caxis": {
            "gridcolor": "white",
            "linecolor": "white",
            "ticks": ""
           }
          },
          "title": {
           "x": 0.05
          },
          "xaxis": {
           "automargin": true,
           "gridcolor": "white",
           "linecolor": "white",
           "ticks": "",
           "title": {
            "standoff": 15
           },
           "zerolinecolor": "white",
           "zerolinewidth": 2
          },
          "yaxis": {
           "automargin": true,
           "gridcolor": "white",
           "linecolor": "white",
           "ticks": "",
           "title": {
            "standoff": 15
           },
           "zerolinecolor": "white",
           "zerolinewidth": 2
          }
         }
        },
        "title": {
         "text": "Overall poverty rate and spending on cash transfer programs"
        },
        "xaxis": {
         "anchor": "y",
         "autorange": true,
         "domain": [
          0,
          1
         ],
         "range": [
          -61.42575373344605,
          1061.425753733446
         ],
         "tickprefix": "$",
         "ticksuffix": "B",
         "title": {
          "text": "Spending in billions"
         },
         "type": "linear"
        },
        "yaxis": {
         "anchor": "x",
         "autorange": true,
         "domain": [
          0,
          1
         ],
         "range": [
          5.203683241252302,
          13.196316758747697
         ],
         "ticksuffix": "%",
         "title": {
          "text": "SPM poverty rate"
         },
         "type": "linear"
        }
       }
      },
      "image/png": "[encoded data removed]"
     },
     "metadata": {},
     "output_type": "display_data"
    }
   ],
   "source": [
    "import pandas as pd\n",
    "import numpy as np\n",
    "import plotly.express as px\n",
    "import plotly.graph_objects as go\n",
    "# import microdf as mdf\n",
    "\n",
    "# Turn off display bar\n",
    "CONFIG = {'displayModeBar': False}\n",
    "\n",
    "# Define UBI Center colors\n",
    "BLUE = '#1976D2'\n",
    "DARK_BLUE = '#1565C0'\n",
    "LIGHT_BLUE = '#90CAF9'\n",
    "GRAY = '#BDBDBD'\n",
    "BARELY_BLUE = '#E3F2FD'\n",
    "\n",
    "july_post = pd.read_csv('https://github.com/ngpsu22/blog/raw/master/july_2020.csv')\n",
    "\n",
    "colors = {0:DARK_BLUE,\n",
    "       1: LIGHT_BLUE,\n",
    "       2: GRAY}\n",
    "\n",
    "fig = px.line(july_post, \n",
    "              x='spending_in_billions', \n",
    "              y='poverty_rate', color='ubi_type',\n",
    "                 color_discrete_map={'Child allowance': DARK_BLUE,\n",
    "                        'Adult UBI': LIGHT_BLUE,\n",
    "                        'All UBI': GRAY})\n",
    "fig.update_layout(\n",
    "    title='Overall poverty rate and spending on cash transfer programs',\n",
    "    xaxis_title='Spending in billions',\n",
    "    yaxis_title='SPM poverty rate',\n",
    "    yaxis_ticksuffix='%',\n",
    "    font=dict(family='Roboto'),\n",
    "    hovermode='x',\n",
    "    xaxis_tickprefix='$',\n",
    "    xaxis_ticksuffix='B',\n",
    "    plot_bgcolor='white',\n",
    "    legend_title_text='',\n",
    "        \n",
    "    )\n",
    "\n",
    "fig.update_traces(mode='markers+lines', hovertemplate=None)\n",
    "\n",
    "fig.show(config=CONFIG)"
   ]
  },
  {
   "cell_type": "markdown",
   "metadata": {},
   "source": [
    "To start, we modeled how different UBI amounts (funded by a flat tax on taxable income) would impact the poverty rate if children were excluded, received half the UBI, or received the full benefit.  Our model simulated up until \\$3 trillion in total UBI spending and found that including children further reduces poverty at every level.  For example, at \\$1.5 trillion in spending, excluding children would give each adult about \\$500 a month and reduce the overall poverty rate from 11.7 percent to 4.5 percent.  However, at the same amount of spending, including children in the full benefit would lower the poverty rate to 4 percent, lifting an additional 1.6 million people out of poverty. Poverty is generally similar between giving children a full-size UBI or half the adult amount."
   ]
  },
  {
   "cell_type": "code",
   "execution_count": 10,
   "metadata": {
    "colab": {
     "base_uri": "https://localhost:8080/",
     "height": 617
    },
    "id": "D5ADD9FKMRLb",
    "outputId": "33855a3f-8277-4f25-b950-caed1e15f1bd",
    "tags": [
     "hide-input"
    ]
   },
   "outputs": [
    {
     "data": {
      "application/vnd.plotly.v1+json": {
       "config": {
        "displayModeBar": false,
        "plotlyServerURL": "https://plot.ly"
       },
       "data": [
        {
         "customdata": [
          [
           0,
           0
          ],
          [
           0,
           17
          ],
          [
           0,
           33
          ],
          [
           0,
           50
          ],
          [
           0,
           66
          ],
          [
           0,
           83
          ],
          [
           0,
           99
          ],
          [
           0,
           116
          ],
          [
           0,
           132
          ],
          [
           0,
           149
          ],
          [
           0,
           165
          ],
          [
           0,
           182
          ],
          [
           0,
           198
          ],
          [
           0,
           215
          ],
          [
           0,
           231
          ],
          [
           0,
           248
          ],
          [
           0,
           264
          ],
          [
           0,
           281
          ],
          [
           0,
           297
          ],
          [
           0,
           314
          ],
          [
           0,
           331
          ],
          [
           0,
           347
          ],
          [
           0,
           364
          ],
          [
           0,
           380
          ],
          [
           0,
           397
          ],
          [
           0,
           413
          ],
          [
           0,
           430
          ],
          [
           0,
           446
          ],
          [
           0,
           463
          ],
          [
           0,
           479
          ],
          [
           0,
           496
          ],
          [
           0,
           512
          ],
          [
           0,
           529
          ],
          [
           0,
           545
          ],
          [
           0,
           562
          ],
          [
           0,
           578
          ],
          [
           0,
           595
          ],
          [
           0,
           611
          ],
          [
           0,
           628
          ],
          [
           0,
           645
          ],
          [
           0,
           661
          ],
          [
           0,
           678
          ],
          [
           0,
           694
          ],
          [
           0,
           711
          ],
          [
           0,
           727
          ],
          [
           0,
           744
          ],
          [
           0,
           760
          ],
          [
           0,
           777
          ],
          [
           0,
           793
          ],
          [
           0,
           810
          ],
          [
           0,
           826
          ],
          [
           0,
           843
          ],
          [
           0,
           859
          ],
          [
           0,
           876
          ],
          [
           0,
           892
          ],
          [
           0,
           909
          ],
          [
           0,
           925
          ],
          [
           0,
           942
          ],
          [
           0,
           959
          ],
          [
           0,
           975
          ],
          [
           0,
           992
          ]
         ],
         "hovertemplate": "<i>Poverty Rate</i>: %{y:.1f}%<br><br><b>Child UBI/mo</b>: $%{customdata[0]: .0f}<br><b>Adult UBI/mono </b>: $%{customdata[1]: .0f}<br>",
         "line": {
          "color": "#BDBDBD"
         },
         "mode": "markers+lines",
         "name": "No UBI for children",
         "type": "scatter",
         "x": [
          0,
          50,
          100,
          150,
          200,
          250,
          300,
          350,
          400,
          450,
          500,
          550,
          600,
          650,
          700,
          750,
          800,
          850,
          900,
          950,
          1000,
          1050,
          1100,
          1150,
          1200,
          1250,
          1300,
          1350,
          1400,
          1450,
          1500,
          1550,
          1600,
          1650,
          1700,
          1750,
          1800,
          1850,
          1900,
          1950,
          2000,
          2050,
          2100,
          2150,
          2200,
          2250,
          2300,
          2350,
          2400,
          2450,
          2500,
          2550,
          2600,
          2650,
          2700,
          2750,
          2800,
          2850,
          2900,
          2950,
          3000
         ],
         "y": [
          11.713376377517555,
          11.344050139185686,
          10.996432897912426,
          10.66613806724317,
          10.324906246114852,
          9.950391864291277,
          9.656184575103305,
          9.319624502044565,
          9.035093437513595,
          8.712250934296899,
          8.444588138193396,
          8.148412236531144,
          7.943729544698233,
          7.702692334763259,
          7.44699060407829,
          7.209213045900295,
          6.954132820826291,
          6.701655641631372,
          6.4782414834497715,
          6.267349816643093,
          6.067826547386272,
          5.875311132349983,
          5.6684733327032175,
          5.447623126506149,
          5.277906495417966,
          5.142863440271666,
          4.9832995421764235,
          4.860453121140301,
          4.738066523746364,
          4.587587937913955,
          4.472766731598425,
          4.355713041317877,
          4.198063557343088,
          4.092262474006006,
          3.958861061141448,
          3.8204397690147514,
          3.71634738032182,
          3.6023789011268548,
          3.4847316206617833,
          3.37548025825314,
          3.2574822302928776,
          3.1743240441530616,
          3.079150326769293,
          2.9903511462034187,
          2.887680061609676,
          2.779429756231228,
          2.692862939729317,
          2.596019821431061,
          2.540841451675848,
          2.44822928518101,
          2.352844987716398,
          2.2622026757478513,
          2.2056099223367225,
          2.139311251846946,
          2.0945197418892043,
          2.0346443741307807,
          1.965988030671062,
          1.9095313588150595,
          1.8657527545718209,
          1.806441069369238,
          1.7535845098692733
         ]
        },
        {
         "customdata": [
          [
           0,
           0
          ],
          [
           7,
           14
          ],
          [
           14,
           29
          ],
          [
           22,
           43
          ],
          [
           29,
           58
          ],
          [
           36,
           72
          ],
          [
           43,
           87
          ],
          [
           51,
           101
          ],
          [
           58,
           115
          ],
          [
           65,
           130
          ],
          [
           72,
           144
          ],
          [
           79,
           159
          ],
          [
           87,
           173
          ],
          [
           94,
           188
          ],
          [
           101,
           202
          ],
          [
           108,
           216
          ],
          [
           115,
           231
          ],
          [
           123,
           245
          ],
          [
           130,
           260
          ],
          [
           137,
           274
          ],
          [
           144,
           289
          ],
          [
           152,
           303
          ],
          [
           159,
           318
          ],
          [
           166,
           332
          ],
          [
           173,
           346
          ],
          [
           180,
           361
          ],
          [
           188,
           375
          ],
          [
           195,
           390
          ],
          [
           202,
           404
          ],
          [
           209,
           419
          ],
          [
           216,
           433
          ],
          [
           224,
           447
          ],
          [
           231,
           462
          ],
          [
           238,
           476
          ],
          [
           245,
           491
          ],
          [
           253,
           505
          ],
          [
           260,
           520
          ],
          [
           267,
           534
          ],
          [
           274,
           548
          ],
          [
           281,
           563
          ],
          [
           289,
           577
          ],
          [
           296,
           592
          ],
          [
           303,
           606
          ],
          [
           310,
           621
          ],
          [
           318,
           635
          ],
          [
           325,
           649
          ],
          [
           332,
           664
          ],
          [
           339,
           678
          ],
          [
           346,
           693
          ],
          [
           354,
           707
          ],
          [
           361,
           722
          ],
          [
           368,
           736
          ],
          [
           375,
           751
          ],
          [
           382,
           765
          ],
          [
           390,
           779
          ],
          [
           397,
           794
          ],
          [
           404,
           808
          ],
          [
           411,
           823
          ],
          [
           419,
           837
          ],
          [
           426,
           852
          ],
          [
           433,
           866
          ]
         ],
         "hovertemplate": "<i>Poverty Rate</i>: %{y:.1f}%<br><br><b>Child UBI/mo</b>: $%{customdata[0]: .0f}<br><b>Adult UBI/mono </b>: $%{customdata[1]: .0f}<br>",
         "line": {
          "color": "#90CAF9"
         },
         "mode": "markers+lines",
         "name": "Half-sized UBI for children",
         "type": "scatter",
         "x": [
          0,
          50,
          100,
          150,
          200,
          250,
          300,
          350,
          400,
          450,
          500,
          550,
          600,
          650,
          700,
          750,
          800,
          850,
          900,
          950,
          1000,
          1050,
          1100,
          1150,
          1200,
          1250,
          1300,
          1350,
          1400,
          1450,
          1500,
          1550,
          1600,
          1650,
          1700,
          1750,
          1800,
          1850,
          1900,
          1950,
          2000,
          2050,
          2100,
          2150,
          2200,
          2250,
          2300,
          2350,
          2400,
          2450,
          2500,
          2550,
          2600,
          2650,
          2700,
          2750,
          2800,
          2850,
          2900,
          2950,
          3000
         ],
         "y": [
          11.713376377517555,
          11.285463000721002,
          10.899472353434334,
          10.571190378730757,
          10.203340150125623,
          9.834608415070974,
          9.521791039374763,
          9.173941159299874,
          8.846396490036813,
          8.550044681220967,
          8.194130172794761,
          7.87880920761212,
          7.6425552967745904,
          7.39165754658284,
          7.146674076078353,
          6.818781306366593,
          6.576103548631357,
          6.326543294771751,
          6.115370976474599,
          5.908430071138794,
          5.674443089688952,
          5.488777111902528,
          5.307475667998685,
          5.177376108990087,
          4.9761392783358085,
          4.81805046150267,
          4.630469820570512,
          4.4703129133497335,
          4.336609346737816,
          4.221083183673079,
          4.053374332739002,
          3.908987575469668,
          3.7869193184662833,
          3.689791290652706,
          3.589594739521687,
          3.4835590067344238,
          3.3709238765246576,
          3.2551234105768936,
          3.142442644178792,
          3.0304770999053283,
          2.911644013321834,
          2.83295366658875,
          2.7408480943729265,
          2.6598098143252917,
          2.5752234036430126,
          2.4772821791662727,
          2.384480326119016,
          2.3165483234133206,
          2.2441391351669333,
          2.1593008492487518,
          2.078532527976482,
          2.002310768843262,
          1.926269174888486,
          1.8633883763656376,
          1.8089719901487384,
          1.767978878157575,
          1.7168369069000506,
          1.6601983082423275,
          1.595238357690391,
          1.5529642627336964,
          1.4948659362984085
         ]
        },
        {
         "customdata": [
          [
           0,
           0
          ],
          [
           13,
           13
          ],
          [
           26,
           26
          ],
          [
           38,
           38
          ],
          [
           51,
           51
          ],
          [
           64,
           64
          ],
          [
           77,
           77
          ],
          [
           90,
           90
          ],
          [
           102,
           102
          ],
          [
           115,
           115
          ],
          [
           128,
           128
          ],
          [
           141,
           141
          ],
          [
           154,
           154
          ],
          [
           167,
           167
          ],
          [
           179,
           179
          ],
          [
           192,
           192
          ],
          [
           205,
           205
          ],
          [
           218,
           218
          ],
          [
           231,
           231
          ],
          [
           243,
           243
          ],
          [
           256,
           256
          ],
          [
           269,
           269
          ],
          [
           282,
           282
          ],
          [
           295,
           295
          ],
          [
           307,
           307
          ],
          [
           320,
           320
          ],
          [
           333,
           333
          ],
          [
           346,
           346
          ],
          [
           359,
           359
          ],
          [
           371,
           371
          ],
          [
           384,
           384
          ],
          [
           397,
           397
          ],
          [
           410,
           410
          ],
          [
           423,
           423
          ],
          [
           436,
           436
          ],
          [
           448,
           448
          ],
          [
           461,
           461
          ],
          [
           474,
           474
          ],
          [
           487,
           487
          ],
          [
           500,
           500
          ],
          [
           512,
           512
          ],
          [
           525,
           525
          ],
          [
           538,
           538
          ],
          [
           551,
           551
          ],
          [
           564,
           564
          ],
          [
           576,
           576
          ],
          [
           589,
           589
          ],
          [
           602,
           602
          ],
          [
           615,
           615
          ],
          [
           628,
           628
          ],
          [
           640,
           640
          ],
          [
           653,
           653
          ],
          [
           666,
           666
          ],
          [
           679,
           679
          ],
          [
           692,
           692
          ],
          [
           705,
           705
          ],
          [
           717,
           717
          ],
          [
           730,
           730
          ],
          [
           743,
           743
          ],
          [
           756,
           756
          ],
          [
           769,
           769
          ]
         ],
         "hovertemplate": "<i>Poverty Rate</i>: %{y:.1f}%<br><br><b>Child UBI/mo</b>: $%{customdata[0]: .0f}<br><b>Adult UBI/mono </b>: $%{customdata[1]: .0f}<br>",
         "line": {
          "color": "#1565C0"
         },
         "mode": "markers+lines",
         "name": "Full-sized UBI for children",
         "type": "scatter",
         "x": [
          0,
          50,
          100,
          150,
          200,
          250,
          300,
          350,
          400,
          450,
          500,
          550,
          600,
          650,
          700,
          750,
          800,
          850,
          900,
          950,
          1000,
          1050,
          1100,
          1150,
          1200,
          1250,
          1300,
          1350,
          1400,
          1450,
          1500,
          1550,
          1600,
          1650,
          1700,
          1750,
          1800,
          1850,
          1900,
          1950,
          2000,
          2050,
          2100,
          2150,
          2200,
          2250,
          2300,
          2350,
          2400,
          2450,
          2500,
          2550,
          2600,
          2650,
          2700,
          2750,
          2800,
          2850,
          2900,
          2950,
          3000
         ],
         "y": [
          11.713376377517555,
          11.255318133957667,
          10.859079527640775,
          10.5281331453845,
          10.118192786942426,
          9.738115546217347,
          9.394129859047503,
          9.026919539328956,
          8.713333969834363,
          8.431057964486081,
          8.085754942808606,
          7.786694999445539,
          7.47261103198547,
          7.202251688696232,
          6.939161673097054,
          6.6846976810617225,
          6.460763930096372,
          6.208077286822793,
          5.9511846803566035,
          5.75150420851166,
          5.576605828655001,
          5.4100370677169725,
          5.231994251799514,
          5.047217337303817,
          4.881852684305093,
          4.720806950521323,
          4.575691606770658,
          4.404192744795481,
          4.267359766647985,
          4.094332239934112,
          3.9725023831320394,
          3.855680360147084,
          3.707328539362405,
          3.5915502243670105,
          3.480288545435668,
          3.3746333693919186,
          3.2657508503154733,
          3.1738517692468835,
          3.0933656274350136,
          3.0182039351001735,
          2.957355994499436,
          2.873583121737186,
          2.7854503881593327,
          2.7063367476405604,
          2.602259448034961,
          2.500133190786668,
          2.419846711910345,
          2.3381120495765333,
          2.275175232663246,
          2.2088668378900067,
          2.1465703264591234,
          2.075562827728146,
          2.006347880598542,
          1.9633893780898093,
          1.915670981785561,
          1.8603907545420888,
          1.7992084713707734,
          1.74632951189316,
          1.702668481400292,
          1.651797415829075,
          1.5937830232106664
         ]
        }
       ],
       "layout": {
        "font": {
         "family": "Roboto"
        },
        "height": 600,
        "hovermode": "x",
        "images": [
         {
          "sizex": 0.12,
          "sizey": 0.12,
          "source": "https://raw.githubusercontent.com/UBICenter/blog/master/jb/_static/ubi_center_logo_wide_blue.png",
          "x": 1,
          "xanchor": "right",
          "xref": "paper",
          "y": -0.15,
          "yanchor": "bottom",
          "yref": "paper"
         }
        ],
        "legend": {
         "title": {
          "text": "Benefit Design"
         },
         "tracegroupgap": 0,
         "x": 0.7,
         "xanchor": "left",
         "y": 0.99,
         "yanchor": "top"
        },
        "margin": {
         "b": 90,
         "t": 60
        },
        "plot_bgcolor": "white",
        "template": {
         "data": {
          "bar": [
           {
            "error_x": {
             "color": "#2a3f5f"
            },
            "error_y": {
             "color": "#2a3f5f"
            },
            "marker": {
             "line": {
              "color": "#E5ECF6",
              "width": 0.5
             }
            },
            "type": "bar"
           }
          ],
          "barpolar": [
           {
            "marker": {
             "line": {
              "color": "#E5ECF6",
              "width": 0.5
             }
            },
            "type": "barpolar"
           }
          ],
          "carpet": [
           {
            "aaxis": {
             "endlinecolor": "#2a3f5f",
             "gridcolor": "white",
             "linecolor": "white",
             "minorgridcolor": "white",
             "startlinecolor": "#2a3f5f"
            },
            "baxis": {
             "endlinecolor": "#2a3f5f",
             "gridcolor": "white",
             "linecolor": "white",
             "minorgridcolor": "white",
             "startlinecolor": "#2a3f5f"
            },
            "type": "carpet"
           }
          ],
          "choropleth": [
           {
            "colorbar": {
             "outlinewidth": 0,
             "ticks": ""
            },
            "type": "choropleth"
           }
          ],
          "contour": [
           {
            "colorbar": {
             "outlinewidth": 0,
             "ticks": ""
            },
            "colorscale": [
             [
              0,
              "#0d0887"
             ],
             [
              0.1111111111111111,
              "#46039f"
             ],
             [
              0.2222222222222222,
              "#7201a8"
             ],
             [
              0.3333333333333333,
              "#9c179e"
             ],
             [
              0.4444444444444444,
              "#bd3786"
             ],
             [
              0.5555555555555556,
              "#d8576b"
             ],
             [
              0.6666666666666666,
              "#ed7953"
             ],
             [
              0.7777777777777778,
              "#fb9f3a"
             ],
             [
              0.8888888888888888,
              "#fdca26"
             ],
             [
              1,
              "#f0f921"
             ]
            ],
            "type": "contour"
           }
          ],
          "contourcarpet": [
           {
            "colorbar": {
             "outlinewidth": 0,
             "ticks": ""
            },
            "type": "contourcarpet"
           }
          ],
          "heatmap": [
           {
            "colorbar": {
             "outlinewidth": 0,
             "ticks": ""
            },
            "colorscale": [
             [
              0,
              "#0d0887"
             ],
             [
              0.1111111111111111,
              "#46039f"
             ],
             [
              0.2222222222222222,
              "#7201a8"
             ],
             [
              0.3333333333333333,
              "#9c179e"
             ],
             [
              0.4444444444444444,
              "#bd3786"
             ],
             [
              0.5555555555555556,
              "#d8576b"
             ],
             [
              0.6666666666666666,
              "#ed7953"
             ],
             [
              0.7777777777777778,
              "#fb9f3a"
             ],
             [
              0.8888888888888888,
              "#fdca26"
             ],
             [
              1,
              "#f0f921"
             ]
            ],
            "type": "heatmap"
           }
          ],
          "heatmapgl": [
           {
            "colorbar": {
             "outlinewidth": 0,
             "ticks": ""
            },
            "colorscale": [
             [
              0,
              "#0d0887"
             ],
             [
              0.1111111111111111,
              "#46039f"
             ],
             [
              0.2222222222222222,
              "#7201a8"
             ],
             [
              0.3333333333333333,
              "#9c179e"
             ],
             [
              0.4444444444444444,
              "#bd3786"
             ],
             [
              0.5555555555555556,
              "#d8576b"
             ],
             [
              0.6666666666666666,
              "#ed7953"
             ],
             [
              0.7777777777777778,
              "#fb9f3a"
             ],
             [
              0.8888888888888888,
              "#fdca26"
             ],
             [
              1,
              "#f0f921"
             ]
            ],
            "type": "heatmapgl"
           }
          ],
          "histogram": [
           {
            "marker": {
             "colorbar": {
              "outlinewidth": 0,
              "ticks": ""
             }
            },
            "type": "histogram"
           }
          ],
          "histogram2d": [
           {
            "colorbar": {
             "outlinewidth": 0,
             "ticks": ""
            },
            "colorscale": [
             [
              0,
              "#0d0887"
             ],
             [
              0.1111111111111111,
              "#46039f"
             ],
             [
              0.2222222222222222,
              "#7201a8"
             ],
             [
              0.3333333333333333,
              "#9c179e"
             ],
             [
              0.4444444444444444,
              "#bd3786"
             ],
             [
              0.5555555555555556,
              "#d8576b"
             ],
             [
              0.6666666666666666,
              "#ed7953"
             ],
             [
              0.7777777777777778,
              "#fb9f3a"
             ],
             [
              0.8888888888888888,
              "#fdca26"
             ],
             [
              1,
              "#f0f921"
             ]
            ],
            "type": "histogram2d"
           }
          ],
          "histogram2dcontour": [
           {
            "colorbar": {
             "outlinewidth": 0,
             "ticks": ""
            },
            "colorscale": [
             [
              0,
              "#0d0887"
             ],
             [
              0.1111111111111111,
              "#46039f"
             ],
             [
              0.2222222222222222,
              "#7201a8"
             ],
             [
              0.3333333333333333,
              "#9c179e"
             ],
             [
              0.4444444444444444,
              "#bd3786"
             ],
             [
              0.5555555555555556,
              "#d8576b"
             ],
             [
              0.6666666666666666,
              "#ed7953"
             ],
             [
              0.7777777777777778,
              "#fb9f3a"
             ],
             [
              0.8888888888888888,
              "#fdca26"
             ],
             [
              1,
              "#f0f921"
             ]
            ],
            "type": "histogram2dcontour"
           }
          ],
          "mesh3d": [
           {
            "colorbar": {
             "outlinewidth": 0,
             "ticks": ""
            },
            "type": "mesh3d"
           }
          ],
          "parcoords": [
           {
            "line": {
             "colorbar": {
              "outlinewidth": 0,
              "ticks": ""
             }
            },
            "type": "parcoords"
           }
          ],
          "pie": [
           {
            "automargin": true,
            "type": "pie"
           }
          ],
          "scatter": [
           {
            "marker": {
             "colorbar": {
              "outlinewidth": 0,
              "ticks": ""
             }
            },
            "type": "scatter"
           }
          ],
          "scatter3d": [
           {
            "line": {
             "colorbar": {
              "outlinewidth": 0,
              "ticks": ""
             }
            },
            "marker": {
             "colorbar": {
              "outlinewidth": 0,
              "ticks": ""
             }
            },
            "type": "scatter3d"
           }
          ],
          "scattercarpet": [
           {
            "marker": {
             "colorbar": {
              "outlinewidth": 0,
              "ticks": ""
             }
            },
            "type": "scattercarpet"
           }
          ],
          "scattergeo": [
           {
            "marker": {
             "colorbar": {
              "outlinewidth": 0,
              "ticks": ""
             }
            },
            "type": "scattergeo"
           }
          ],
          "scattergl": [
           {
            "marker": {
             "colorbar": {
              "outlinewidth": 0,
              "ticks": ""
             }
            },
            "type": "scattergl"
           }
          ],
          "scattermapbox": [
           {
            "marker": {
             "colorbar": {
              "outlinewidth": 0,
              "ticks": ""
             }
            },
            "type": "scattermapbox"
           }
          ],
          "scatterpolar": [
           {
            "marker": {
             "colorbar": {
              "outlinewidth": 0,
              "ticks": ""
             }
            },
            "type": "scatterpolar"
           }
          ],
          "scatterpolargl": [
           {
            "marker": {
             "colorbar": {
              "outlinewidth": 0,
              "ticks": ""
             }
            },
            "type": "scatterpolargl"
           }
          ],
          "scatterternary": [
           {
            "marker": {
             "colorbar": {
              "outlinewidth": 0,
              "ticks": ""
             }
            },
            "type": "scatterternary"
           }
          ],
          "surface": [
           {
            "colorbar": {
             "outlinewidth": 0,
             "ticks": ""
            },
            "colorscale": [
             [
              0,
              "#0d0887"
             ],
             [
              0.1111111111111111,
              "#46039f"
             ],
             [
              0.2222222222222222,
              "#7201a8"
             ],
             [
              0.3333333333333333,
              "#9c179e"
             ],
             [
              0.4444444444444444,
              "#bd3786"
             ],
             [
              0.5555555555555556,
              "#d8576b"
             ],
             [
              0.6666666666666666,
              "#ed7953"
             ],
             [
              0.7777777777777778,
              "#fb9f3a"
             ],
             [
              0.8888888888888888,
              "#fdca26"
             ],
             [
              1,
              "#f0f921"
             ]
            ],
            "type": "surface"
           }
          ],
          "table": [
           {
            "cells": {
             "fill": {
              "color": "#EBF0F8"
             },
             "line": {
              "color": "white"
             }
            },
            "header": {
             "fill": {
              "color": "#C8D4E3"
             },
             "line": {
              "color": "white"
             }
            },
            "type": "table"
           }
          ]
         },
         "layout": {
          "annotationdefaults": {
           "arrowcolor": "#2a3f5f",
           "arrowhead": 0,
           "arrowwidth": 1
          },
          "coloraxis": {
           "colorbar": {
            "outlinewidth": 0,
            "ticks": ""
           }
          },
          "colorscale": {
           "diverging": [
            [
             0,
             "#8e0152"
            ],
            [
             0.1,
             "#c51b7d"
            ],
            [
             0.2,
             "#de77ae"
            ],
            [
             0.3,
             "#f1b6da"
            ],
            [
             0.4,
             "#fde0ef"
            ],
            [
             0.5,
             "#f7f7f7"
            ],
            [
             0.6,
             "#e6f5d0"
            ],
            [
             0.7,
             "#b8e186"
            ],
            [
             0.8,
             "#7fbc41"
            ],
            [
             0.9,
             "#4d9221"
            ],
            [
             1,
             "#276419"
            ]
           ],
           "sequential": [
            [
             0,
             "#0d0887"
            ],
            [
             0.1111111111111111,
             "#46039f"
            ],
            [
             0.2222222222222222,
             "#7201a8"
            ],
            [
             0.3333333333333333,
             "#9c179e"
            ],
            [
             0.4444444444444444,
             "#bd3786"
            ],
            [
             0.5555555555555556,
             "#d8576b"
            ],
            [
             0.6666666666666666,
             "#ed7953"
            ],
            [
             0.7777777777777778,
             "#fb9f3a"
            ],
            [
             0.8888888888888888,
             "#fdca26"
            ],
            [
             1,
             "#f0f921"
            ]
           ],
           "sequentialminus": [
            [
             0,
             "#0d0887"
            ],
            [
             0.1111111111111111,
             "#46039f"
            ],
            [
             0.2222222222222222,
             "#7201a8"
            ],
            [
             0.3333333333333333,
             "#9c179e"
            ],
            [
             0.4444444444444444,
             "#bd3786"
            ],
            [
             0.5555555555555556,
             "#d8576b"
            ],
            [
             0.6666666666666666,
             "#ed7953"
            ],
            [
             0.7777777777777778,
             "#fb9f3a"
            ],
            [
             0.8888888888888888,
             "#fdca26"
            ],
            [
             1,
             "#f0f921"
            ]
           ]
          },
          "colorway": [
           "#636efa",
           "#EF553B",
           "#00cc96",
           "#ab63fa",
           "#FFA15A",
           "#19d3f3",
           "#FF6692",
           "#B6E880",
           "#FF97FF",
           "#FECB52"
          ],
          "font": {
           "color": "#2a3f5f"
          },
          "geo": {
           "bgcolor": "white",
           "lakecolor": "white",
           "landcolor": "#E5ECF6",
           "showlakes": true,
           "showland": true,
           "subunitcolor": "white"
          },
          "hoverlabel": {
           "align": "left"
          },
          "hovermode": "closest",
          "mapbox": {
           "style": "light"
          },
          "paper_bgcolor": "white",
          "plot_bgcolor": "#E5ECF6",
          "polar": {
           "angularaxis": {
            "gridcolor": "white",
            "linecolor": "white",
            "ticks": ""
           },
           "bgcolor": "#E5ECF6",
           "radialaxis": {
            "gridcolor": "white",
            "linecolor": "white",
            "ticks": ""
           }
          },
          "scene": {
           "xaxis": {
            "backgroundcolor": "#E5ECF6",
            "gridcolor": "white",
            "gridwidth": 2,
            "linecolor": "white",
            "showbackground": true,
            "ticks": "",
            "zerolinecolor": "white"
           },
           "yaxis": {
            "backgroundcolor": "#E5ECF6",
            "gridcolor": "white",
            "gridwidth": 2,
            "linecolor": "white",
            "showbackground": true,
            "ticks": "",
            "zerolinecolor": "white"
           },
           "zaxis": {
            "backgroundcolor": "#E5ECF6",
            "gridcolor": "white",
            "gridwidth": 2,
            "linecolor": "white",
            "showbackground": true,
            "ticks": "",
            "zerolinecolor": "white"
           }
          },
          "shapedefaults": {
           "line": {
            "color": "#2a3f5f"
           }
          },
          "ternary": {
           "aaxis": {
            "gridcolor": "white",
            "linecolor": "white",
            "ticks": ""
           },
           "baxis": {
            "gridcolor": "white",
            "linecolor": "white",
            "ticks": ""
           },
           "bgcolor": "#E5ECF6",
           "caxis": {
            "gridcolor": "white",
            "linecolor": "white",
            "ticks": ""
           }
          },
          "title": {
           "x": 0.05
          },
          "xaxis": {
           "automargin": true,
           "gridcolor": "white",
           "linecolor": "white",
           "ticks": "",
           "title": {
            "standoff": 15
           },
           "zerolinecolor": "white",
           "zerolinewidth": 2
          },
          "yaxis": {
           "automargin": true,
           "gridcolor": "white",
           "linecolor": "white",
           "ticks": "",
           "title": {
            "standoff": 15
           },
           "zerolinecolor": "white",
           "zerolinewidth": 2
          }
         }
        },
        "title": {
         "text": "Poverty by proportion of adult benefit paid to children"
        },
        "width": 1000,
        "xaxis": {
         "anchor": "y",
         "autorange": true,
         "domain": [
          0,
          1
         ],
         "range": [
          -183.36673346693385,
          3183.366733466934
         ],
         "tickprefix": "$",
         "ticksuffix": "B",
         "title": {
          "text": "Funding in billions"
         },
         "type": "linear"
        },
        "yaxis": {
         "anchor": "x",
         "autorange": true,
         "domain": [
          0,
          1
         ],
         "range": [
          0.8200586430103516,
          12.388183670805612
         ],
         "ticksuffix": "%",
         "title": {
          "text": "SPM poverty rate"
         },
         "type": "linear"
        }
       }
      },
      "image/png": "[encoded data removed]"
     },
     "metadata": {},
     "output_type": "display_data"
    }
   ],
   "source": [
    "summary2= pd.read_csv(\n",
    "    \"https://github.com/ngpsu22/blog/raw/master/child_share_ubi_summary.csv.gz\",\n",
    "    compression='gzip'\n",
    ")\n",
    "# Turn off display bar\n",
    "CONFIG = {'displayModeBar': False}\n",
    "\n",
    "# Define UBI Center colors\n",
    "BLUE = '#1976D2'\n",
    "DARK_BLUE = '#1565C0'\n",
    "LIGHT_BLUE = '#90CAF9'\n",
    "GRAY = '#BDBDBD'\n",
    "BARELY_BLUE = '#E3F2FD'\n",
    "\n",
    "# Create figure\n",
    "fig = px.line()\n",
    "\n",
    "names = {0:\"No UBI for children\",\n",
    "       1: \"Half-sized UBI for children\",\n",
    "       2: \"Full-sized UBI for children\"}\n",
    "\n",
    "colors = {0:GRAY,\n",
    "       1: LIGHT_BLUE,\n",
    "       2: DARK_BLUE}\n",
    "       \n",
    "percent_steps=[0,50,100]\n",
    "\n",
    "zero=summary2[summary2['child_percent_ubi']==0]\n",
    "fifty=summary2[summary2['child_percent_ubi']==50]\n",
    "hundred=summary2[summary2['child_percent_ubi']==100]\n",
    "\n",
    "dfs= [zero,fifty,hundred]\n",
    "\n",
    "for i, df in enumerate(dfs):\n",
    "  # add trace for optimal poverty df\n",
    "  fig.add_trace(\n",
    "      go.Scatter(\n",
    "          x=df['funding_billions'],\n",
    "          y=df['poverty_rate'],\n",
    "          mode=\"markers+lines\",\n",
    "          name=names[i],\n",
    "          # assign numpy array with child & adult ubi to customdata argument\n",
    "          customdata = np.stack(\n",
    "          (df['monthly_child_ubi'],\n",
    "           df['monthly_adult_ubi']),\n",
    "          axis=-1),\n",
    "          # add customdata to hovertemplate\n",
    "          hovertemplate = ('<i>Poverty Rate</i>: %{y:.1f}%<br>'+\\\n",
    "                        '<br><b>Child UBI/mo</b>: $%{customdata[0]: .0f}'+\\\n",
    "                        '<br><b>Adult UBI/mono </b>: $%{customdata[1]: .0f}<br>'),\n",
    "                          \n",
    "          line=dict(\n",
    "              color=colors[i]\n",
    "          )\n",
    "      )\n",
    "  )\n",
    "\n",
    "\n",
    "fig.update_layout(\n",
    "        title='Poverty by proportion of adult benefit paid to children',\n",
    "        xaxis_title='Funding in billions',\n",
    "        yaxis_title='SPM poverty rate',\n",
    "        yaxis_ticksuffix='%',\n",
    "        font=dict(family='Roboto'),\n",
    "        hovermode='x',\n",
    "        xaxis_tickprefix='$',\n",
    "        xaxis_ticksuffix='B',\n",
    "        plot_bgcolor='white',\n",
    "        height=600,\n",
    "        width=1000,\n",
    "        legend_title_text='Benefit Design',\n",
    "        margin_b=90 # add bottom margin for caption\n",
    "        \n",
    "    )\n",
    "\n",
    "fig.update_layout(legend=dict(\n",
    "    yanchor=\"top\",\n",
    "    y=0.99,\n",
    "    xanchor=\"left\",\n",
    "    x=0.7\n",
    "))\n",
    "\n",
    "fig.add_layout_image(\n",
    "    dict(\n",
    "        source=\"https://raw.githubusercontent.com/UBICenter/blog/master/jb/_static/ubi_center_logo_wide_blue.png\",\n",
    "        # See https://github.com/plotly/plotly.py/issues/2975.\n",
    "        # source=\"../_static/ubi_center_logo_wide_blue.png\",\n",
    "        xref=\"paper\", yref=\"paper\",\n",
    "        x=1, y=-0.15,\n",
    "        sizex=0.12, sizey=0.12,\n",
    "        xanchor=\"right\", yanchor=\"bottom\"\n",
    "        )\n",
    "    )\n",
    "\n",
    "\n",
    "fig.update_traces(\n",
    "  mode='markers+lines'\n",
    "  )\n",
    "\n",
    "fig.show(config=CONFIG)"
   ]
  },
  {
   "cell_type": "markdown",
   "metadata": {},
   "source": [
    "Still, the results above only model three scenarios. In our next simulation, we examined the optimal share of spending that should go to children in order to minimize poverty or reduce inequality.  For each spending level, we simulated 101 scenarios that range from 0 percent of the overall funding going to children to 100 percent. As a benchmark, we show a line at 22%, which corresponds to equal UBI levels for adults and children (since children comprise 22% of the US population). \n",
    "\n",
    "The simplest case is inequality reduction, for which optimal policy would give vast majorities of funds to children. In fact, an annual child allowance should reach over \\$17,000 per child before any spending goes towards adults.  Even at \\$3 trillion in new spending, over half of the money would go towards children, resulting in approximately \\$1,743 a month for kids and $648 per adult. This is, to some degree, by construction, as our inequality metric considers per-capita resources; other inequality measures may produce different results.\n",
    "\n",
    "If the goal is to minimize the poverty rate, the story is a bit more complicated. For spending levels below \\$1 trillion, children should receive more than adults; for spending levels above \\$2 trillion, children should receive less; for spending levels in between, it varies. Because many people have incomes just below or above their poverty threshold, the poverty rate is inherently volatile with respect to transfer policy.\n",
    "\n",
    "Finally, we examined the effect of UBI design on the  poverty gap, the summation of the distance poor families are from their poverty threshold.  The 2019 poverty gap is \\$153 billion. To optimize its reduction, adults should receive more than children at every level above \\$150 billion in new spending.  With \\$2 trillion in funding, the poverty gap could be reduced to \\$45 billion by sending every adult \\$628 per month and parents \\$114 per month per child."
   ]
  },
  {
   "cell_type": "code",
   "execution_count": 11,
   "metadata": {
    "colab": {
     "base_uri": "https://localhost:8080/",
     "height": 617
    },
    "id": "zh5hhpyiIW-G",
    "outputId": "f24dff7e-47a7-4bbc-d37a-fe732dca683c",
    "tags": [
     "hide-input"
    ]
   },
   "outputs": [
    {
     "data": {
      "application/vnd.plotly.v1+json": {
       "config": {
        "displayModeBar": false,
        "plotlyServerURL": "https://plot.ly"
       },
       "data": [
        {
         "customdata": [
          [
           1743,
           486,
           0.2490542962184269
          ],
          [
           1748,
           468,
           0.25186581499160915
          ],
          [
           1751,
           451,
           0.2546912382260032
          ],
          [
           1721,
           443,
           0.2575205589543699
          ],
          [
           1722,
           426,
           0.2603593108947718
          ],
          [
           1723,
           409,
           0.2632091651189035
          ],
          [
           1692,
           402,
           0.2660667665723991
          ],
          [
           1691,
           385,
           0.26892897281849465
          ],
          [
           1688,
           370,
           0.2718006220693112
          ],
          [
           1685,
           354,
           0.2746809603958958
          ],
          [
           1680,
           339,
           0.2775694050704378
          ],
          [
           1675,
           324,
           0.2804653935034549
          ],
          [
           1668,
           309,
           0.2833683739024921
          ],
          [
           1660,
           295,
           0.2862779445723805
          ],
          [
           1651,
           281,
           0.2891938493320683
          ],
          [
           1640,
           268,
           0.29211595287938125
          ],
          [
           1629,
           255,
           0.2950442517344801
          ],
          [
           1617,
           242,
           0.2979788669601094
          ],
          [
           1603,
           229,
           0.3009200315572845
          ],
          [
           1588,
           217,
           0.3038680368889641
          ],
          [
           1595,
           198,
           0.30681981998350283
          ],
          [
           1577,
           187,
           0.3097774108987585
          ],
          [
           1580,
           170,
           0.31274139833934217
          ],
          [
           1560,
           159,
           0.31570908954515864
          ],
          [
           1558,
           143,
           0.31868239916769875
          ],
          [
           1555,
           127,
           0.32166141305845103
          ],
          [
           1530,
           118,
           0.3246441991230164
          ],
          [
           1523,
           104,
           0.32763141658783995
          ],
          [
           1513,
           90,
           0.3306234911653679
          ],
          [
           1519,
           72,
           0.33361935753099403
          ],
          [
           1504,
           59,
           0.33661915829470945
          ],
          [
           1487,
           48,
           0.3396244413013582
          ],
          [
           1483,
           32,
           0.3426321484245947
          ],
          [
           1476,
           18,
           0.34564447778590274
          ],
          [
           1466,
           4,
           0.348660871016097
          ],
          [
           1424,
           0,
           0.3516970461073096
          ],
          [
           1367,
           0,
           0.35479226925786994
          ],
          [
           1310,
           0,
           0.3579472345053161
          ],
          [
           1253,
           0,
           0.3611608269656951
          ],
          [
           1196,
           0,
           0.3644320079048984
          ],
          [
           1139,
           0,
           0.3677598263726113
          ],
          [
           1082,
           0,
           0.3711431492143515
          ],
          [
           1025,
           0,
           0.3745808878350504
          ],
          [
           968,
           0,
           0.3780719677702751
          ],
          [
           911,
           0,
           0.3816152310770392
          ],
          [
           854,
           0,
           0.3852096073604042
          ],
          [
           797,
           0,
           0.3888539374392968
          ],
          [
           740,
           0,
           0.3925471057770672
          ],
          [
           684,
           0,
           0.396287878212902
          ],
          [
           627,
           0,
           0.4000751248373676
          ],
          [
           570,
           0,
           0.4039076822464729
          ],
          [
           513,
           0,
           0.40778437125923306
          ],
          [
           456,
           0,
           0.4117039565827321
          ],
          [
           399,
           0,
           0.41566516476586
          ],
          [
           342,
           0,
           0.4196667423011684
          ],
          [
           285,
           0,
           0.4237074764557516
          ],
          [
           228,
           0,
           0.4277861835852696
          ],
          [
           171,
           0,
           0.4319017351086241
          ],
          [
           114,
           0,
           0.4360529113097549
          ],
          [
           57,
           0,
           0.4402384760039884
          ]
         ],
         "hovertemplate": "<i>Children's Share of Spending</i>: %{y:.0f}%<br><br><b>Child UBI/mo</b>: $%{customdata[0]: .0f}<br><b>Adult UBI/mo </b>: $%{customdata[1]: .0f}<br><br><b>Gini </b>: %{customdata[2]: .3f}<br>",
         "line": {
          "color": "#499167"
         },
         "mode": "markers+lines",
         "name": "Minimize Gini index",
         "type": "scatter",
         "x": [
          3000,
          2950,
          2900,
          2850,
          2800,
          2750,
          2700,
          2650,
          2600,
          2550,
          2500,
          2450,
          2400,
          2350,
          2300,
          2250,
          2200,
          2150,
          2100,
          2050,
          2000,
          1950,
          1900,
          1850,
          1800,
          1750,
          1700,
          1650,
          1600,
          1550,
          1500,
          1450,
          1400,
          1350,
          1300,
          1250,
          1200,
          1150,
          1100,
          1050,
          1000,
          950,
          900,
          850,
          800,
          750,
          700,
          650,
          600,
          550,
          500,
          450,
          400,
          350,
          300,
          250,
          200,
          150,
          100,
          50
         ],
         "y": [
          51,
          52,
          53,
          53,
          54,
          55,
          55,
          56,
          57,
          58,
          59,
          60,
          61,
          62,
          63,
          64,
          65,
          66,
          67,
          68,
          70,
          71,
          73,
          74,
          76,
          78,
          79,
          81,
          83,
          86,
          88,
          90,
          93,
          96,
          99,
          100,
          100,
          100,
          100,
          100,
          100,
          100,
          100,
          100,
          100,
          100,
          100,
          100,
          100,
          100,
          100,
          100,
          100,
          100,
          100,
          100,
          100,
          100,
          100,
          100
         ]
        },
        {
         "customdata": [
          [
           171,
           942,
           28.666442832793713
          ],
          [
           168,
           926,
           29.08101985066322
          ],
          [
           165,
           911,
           29.536641420691602
          ],
          [
           162,
           895,
           30.046071309262157
          ],
          [
           159,
           879,
           30.592103370416933
          ],
          [
           157,
           864,
           31.172658838223427
          ],
          [
           154,
           848,
           31.786071253083733
          ],
          [
           151,
           832,
           32.43180303169776
          ],
          [
           148,
           816,
           33.12166264807933
          ],
          [
           145,
           801,
           33.85711216933864
          ],
          [
           142,
           785,
           34.63107733336127
          ],
          [
           140,
           769,
           35.430901911085094
          ],
          [
           137,
           754,
           36.26949752715846
          ],
          [
           134,
           738,
           37.150672201282816
          ],
          [
           131,
           722,
           38.07645601843419
          ],
          [
           128,
           707,
           39.051349428091754
          ],
          [
           125,
           691,
           40.06863132888471
          ],
          [
           122,
           675,
           41.12644235914754
          ],
          [
           120,
           659,
           42.23196485174465
          ],
          [
           117,
           644,
           43.38473065584097
          ],
          [
           114,
           628,
           44.59774922675464
          ],
          [
           111,
           612,
           45.85983838290487
          ],
          [
           108,
           597,
           47.17946567236855
          ],
          [
           105,
           581,
           48.56297611152167
          ],
          [
           103,
           565,
           49.99182267408873
          ],
          [
           100,
           550,
           51.497832169415965
          ],
          [
           97,
           534,
           53.06772403655377
          ],
          [
           94,
           518,
           54.68715241506797
          ],
          [
           91,
           502,
           56.36090457311112
          ],
          [
           106,
           482,
           58.091237258903014
          ],
          [
           103,
           466,
           59.87731997506795
          ],
          [
           99,
           451,
           61.73188602084537
          ],
          [
           96,
           435,
           63.65339054419633
          ],
          [
           92,
           419,
           65.63835569738683
          ],
          [
           89,
           404,
           67.7042077357141
          ],
          [
           85,
           388,
           69.83858772325846
          ],
          [
           82,
           373,
           72.04186112569285
          ],
          [
           79,
           357,
           74.32505149711051
          ],
          [
           75,
           342,
           76.6928776701677
          ],
          [
           72,
           326,
           79.14736327280963
          ],
          [
           68,
           311,
           81.68758851639774
          ],
          [
           76,
           292,
           84.3151831515239
          ],
          [
           72,
           277,
           87.04139130189766
          ],
          [
           68,
           261,
           89.88746531580288
          ],
          [
           64,
           246,
           92.8457426813486
          ],
          [
           68,
           228,
           95.91584946550383
          ],
          [
           64,
           213,
           99.11676635615824
          ],
          [
           59,
           198,
           102.43567545454384
          ],
          [
           55,
           182,
           105.85461476980507
          ],
          [
           56,
           165,
           109.38738838825843
          ],
          [
           63,
           147,
           113.05225678296895
          ],
          [
           51,
           134,
           116.869986160539
          ],
          [
           50,
           118,
           120.83549340532913
          ],
          [
           48,
           102,
           124.93189943281813
          ],
          [
           44,
           86,
           129.18040485315407
          ],
          [
           43,
           70,
           133.57665098980652
          ],
          [
           39,
           55,
           138.12206670299955
          ],
          [
           38,
           39,
           142.83951864896744
          ],
          [
           31,
           24,
           147.7133594306196
          ],
          [
           29,
           8,
           152.7295429932342
          ]
         ],
         "hovertemplate": "<i>Children's Share of Spending</i>: %{y:.0f}%<br><br><b>Child UBI/mo</b>: $%{customdata[0]: .0f}<br><b>Adult UBI/mo </b>: $%{customdata[1]: .0f}<br><br><b>Poverty Gap </b>: $%{customdata[2]: .0f} billion<br>",
         "line": {
          "color": "#1565C0"
         },
         "mode": "markers+lines",
         "name": "Minimize poverty gap",
         "type": "scatter",
         "x": [
          3000,
          2950,
          2900,
          2850,
          2800,
          2750,
          2700,
          2650,
          2600,
          2550,
          2500,
          2450,
          2400,
          2350,
          2300,
          2250,
          2200,
          2150,
          2100,
          2050,
          2000,
          1950,
          1900,
          1850,
          1800,
          1750,
          1700,
          1650,
          1600,
          1550,
          1500,
          1450,
          1400,
          1350,
          1300,
          1250,
          1200,
          1150,
          1100,
          1050,
          1000,
          950,
          900,
          850,
          800,
          750,
          700,
          650,
          600,
          550,
          500,
          450,
          400,
          350,
          300,
          250,
          200,
          150,
          100,
          50
         ],
         "y": [
          5,
          5,
          5,
          5,
          5,
          5,
          5,
          5,
          5,
          5,
          5,
          5,
          5,
          5,
          5,
          5,
          5,
          5,
          5,
          5,
          5,
          5,
          5,
          5,
          5,
          5,
          5,
          5,
          5,
          6,
          6,
          6,
          6,
          6,
          6,
          6,
          6,
          6,
          6,
          6,
          6,
          7,
          7,
          7,
          7,
          8,
          8,
          8,
          8,
          9,
          11,
          10,
          11,
          12,
          13,
          15,
          17,
          22,
          27,
          51
         ]
        },
        {
         "customdata": [
          [
           478,
           853,
           1.4911435709762464
          ],
          [
           370,
           868,
           1.5382976667730333
          ],
          [
           330,
           863,
           1.5774384334261666
          ],
          [
           325,
           848,
           1.628911885000743
          ],
          [
           287,
           842,
           1.6930590754523516
          ],
          [
           501,
           764,
           1.7429171061848463
          ],
          [
           400,
           776,
           1.8023104532329268
          ],
          [
           362,
           771,
           1.8606215025962185
          ],
          [
           326,
           765,
           1.9246255619252104
          ],
          [
           378,
           733,
           1.9906837262591464
          ],
          [
           399,
           711,
           2.0738783069824667
          ],
          [
           391,
           696,
           2.1405997578354405
          ],
          [
           437,
           666,
           2.218513649894502
          ],
          [
           402,
           660,
           2.288357020003953
          ],
          [
           367,
           654,
           2.373313325458501
          ],
          [
           461,
           610,
           2.4581016894940237
          ],
          [
           401,
           611,
           2.541364715276688
          ],
          [
           392,
           597,
           2.623279536640172
          ],
          [
           407,
           576,
           2.7094394058676707
          ],
          [
           327,
           583,
           2.8160704597188686
          ],
          [
           319,
           569,
           2.9012486159539645
          ],
          [
           400,
           529,
           2.9972846679150824
          ],
          [
           476,
           490,
           3.088109266388533
          ],
          [
           464,
           477,
           3.1698588671647543
          ],
          [
           451,
           464,
           3.263601467008675
          ],
          [
           459,
           445,
           3.3698770326612046
          ],
          [
           465,
           427,
           3.481426879957209
          ],
          [
           395,
           431,
           3.5884234629523126
          ],
          [
           419,
           407,
           3.7010336844853136
          ],
          [
           388,
           400,
           3.8398286651768174
          ],
          [
           359,
           392,
           3.9575340361686067
          ],
          [
           363,
           374,
           4.089267791295638
          ],
          [
           383,
           352,
           4.249607366245208
          ],
          [
           415,
           326,
           4.3852592574570535
          ],
          [
           370,
           322,
           4.519230729154372
          ],
          [
           384,
           302,
           4.673275369292809
          ],
          [
           383,
           286,
           4.844546861964257
          ],
          [
           262,
           304,
           5.027269167255677
          ],
          [
           238,
           295,
           5.200316164057178
          ],
          [
           395,
           233,
           5.391168182455174
          ],
          [
           273,
           251,
           5.569706570977222
          ],
          [
           271,
           236,
           5.746618526205922
          ],
          [
           256,
           223,
           5.9446356690490685
          ],
          [
           290,
           197,
           6.148205592955844
          ],
          [
           301,
           177,
           6.332144970873057
          ],
          [
           265,
           171,
           6.551885111529435
          ],
          [
           279,
           150,
           6.804664173925728
          ],
          [
           252,
           142,
           7.0947704656137685
          ],
          [
           314,
           107,
           7.340108969307767
          ],
          [
           313,
           91,
           7.6249323249552585
          ],
          [
           313,
           74,
           7.899979553767097
          ],
          [
           292,
           64,
           8.153996978913417
          ],
          [
           305,
           44,
           8.438754219886281
          ],
          [
           283,
           34,
           8.738140057406724
          ],
          [
           342,
           0,
           9.03301704628329
          ],
          [
           248,
           11,
           9.357830483135825
          ],
          [
           228,
           0,
           9.719757713094516
          ],
          [
           169,
           0,
           10.144702604025266
          ],
          [
           114,
           0,
           10.56442513354621
          ],
          [
           57,
           0,
           11.102583459023206
          ]
         ],
         "hovertemplate": "<i>Children's Share of Spending</i>: %{y:.0f}%<br><br><b>Child UBI/mo</b>: $%{customdata[0]: .0f}<br><b>Adult UBI/mo </b>: $%{customdata[1]: .0f}<br><br><b>Poverty rate </b>: %%{customdata[2]: .0f}%<br>",
         "line": {
          "color": "#90CAF9"
         },
         "mode": "markers+lines",
         "name": "Minimize poverty rate",
         "type": "scatter",
         "x": [
          3000,
          2950,
          2900,
          2850,
          2800,
          2750,
          2700,
          2650,
          2600,
          2550,
          2500,
          2450,
          2400,
          2350,
          2300,
          2250,
          2200,
          2150,
          2100,
          2050,
          2000,
          1950,
          1900,
          1850,
          1800,
          1750,
          1700,
          1650,
          1600,
          1550,
          1500,
          1450,
          1400,
          1350,
          1300,
          1250,
          1200,
          1150,
          1100,
          1050,
          1000,
          950,
          900,
          850,
          800,
          750,
          700,
          650,
          600,
          550,
          500,
          450,
          400,
          350,
          300,
          250,
          200,
          150,
          100,
          50
         ],
         "y": [
          14,
          11,
          10,
          10,
          9,
          16,
          13,
          12,
          11,
          13,
          14,
          14,
          16,
          15,
          14,
          18,
          16,
          16,
          17,
          14,
          14,
          18,
          22,
          22,
          22,
          23,
          24,
          21,
          23,
          22,
          21,
          22,
          24,
          27,
          25,
          27,
          28,
          20,
          19,
          33,
          24,
          25,
          25,
          30,
          33,
          31,
          35,
          34,
          46,
          50,
          55,
          57,
          67,
          71,
          100,
          87,
          100,
          99,
          100,
          100
         ]
        }
       ],
       "layout": {
        "annotations": [
         {
          "font": {
           "color": "#BDBDBD",
           "size": 12
          },
          "showarrow": false,
          "text": "Adult UBI = Child UBI",
          "x": 1,
          "xref": "paper",
          "y": 0.22,
          "yref": "paper"
         }
        ],
        "height": 600,
        "hoverlabel": {
         "align": "right"
        },
        "hovermode": "x",
        "images": [
         {
          "sizex": 0.12,
          "sizey": 0.12,
          "source": "https://raw.githubusercontent.com/UBICenter/blog/master/jb/_static/ubi_center_logo_wide_blue.png",
          "x": 1,
          "xanchor": "right",
          "xref": "paper",
          "y": -0.15,
          "yanchor": "bottom",
          "yref": "paper"
         }
        ],
        "legend": {
         "tracegroupgap": 0,
         "x": 0.7,
         "xanchor": "left",
         "y": 0.99,
         "yanchor": "top"
        },
        "margin": {
         "b": 90,
         "t": 60
        },
        "plot_bgcolor": "white",
        "shapes": [
         {
          "line": {
           "color": "#BDBDBD",
           "dash": "dot"
          },
          "type": "line",
          "x0": -1,
          "x1": 3000,
          "y0": 22.489463981822677,
          "y1": 22.489463981822677
         }
        ],
        "template": {
         "data": {
          "bar": [
           {
            "error_x": {
             "color": "#2a3f5f"
            },
            "error_y": {
             "color": "#2a3f5f"
            },
            "marker": {
             "line": {
              "color": "#E5ECF6",
              "width": 0.5
             }
            },
            "type": "bar"
           }
          ],
          "barpolar": [
           {
            "marker": {
             "line": {
              "color": "#E5ECF6",
              "width": 0.5
             }
            },
            "type": "barpolar"
           }
          ],
          "carpet": [
           {
            "aaxis": {
             "endlinecolor": "#2a3f5f",
             "gridcolor": "white",
             "linecolor": "white",
             "minorgridcolor": "white",
             "startlinecolor": "#2a3f5f"
            },
            "baxis": {
             "endlinecolor": "#2a3f5f",
             "gridcolor": "white",
             "linecolor": "white",
             "minorgridcolor": "white",
             "startlinecolor": "#2a3f5f"
            },
            "type": "carpet"
           }
          ],
          "choropleth": [
           {
            "colorbar": {
             "outlinewidth": 0,
             "ticks": ""
            },
            "type": "choropleth"
           }
          ],
          "contour": [
           {
            "colorbar": {
             "outlinewidth": 0,
             "ticks": ""
            },
            "colorscale": [
             [
              0,
              "#0d0887"
             ],
             [
              0.1111111111111111,
              "#46039f"
             ],
             [
              0.2222222222222222,
              "#7201a8"
             ],
             [
              0.3333333333333333,
              "#9c179e"
             ],
             [
              0.4444444444444444,
              "#bd3786"
             ],
             [
              0.5555555555555556,
              "#d8576b"
             ],
             [
              0.6666666666666666,
              "#ed7953"
             ],
             [
              0.7777777777777778,
              "#fb9f3a"
             ],
             [
              0.8888888888888888,
              "#fdca26"
             ],
             [
              1,
              "#f0f921"
             ]
            ],
            "type": "contour"
           }
          ],
          "contourcarpet": [
           {
            "colorbar": {
             "outlinewidth": 0,
             "ticks": ""
            },
            "type": "contourcarpet"
           }
          ],
          "heatmap": [
           {
            "colorbar": {
             "outlinewidth": 0,
             "ticks": ""
            },
            "colorscale": [
             [
              0,
              "#0d0887"
             ],
             [
              0.1111111111111111,
              "#46039f"
             ],
             [
              0.2222222222222222,
              "#7201a8"
             ],
             [
              0.3333333333333333,
              "#9c179e"
             ],
             [
              0.4444444444444444,
              "#bd3786"
             ],
             [
              0.5555555555555556,
              "#d8576b"
             ],
             [
              0.6666666666666666,
              "#ed7953"
             ],
             [
              0.7777777777777778,
              "#fb9f3a"
             ],
             [
              0.8888888888888888,
              "#fdca26"
             ],
             [
              1,
              "#f0f921"
             ]
            ],
            "type": "heatmap"
           }
          ],
          "heatmapgl": [
           {
            "colorbar": {
             "outlinewidth": 0,
             "ticks": ""
            },
            "colorscale": [
             [
              0,
              "#0d0887"
             ],
             [
              0.1111111111111111,
              "#46039f"
             ],
             [
              0.2222222222222222,
              "#7201a8"
             ],
             [
              0.3333333333333333,
              "#9c179e"
             ],
             [
              0.4444444444444444,
              "#bd3786"
             ],
             [
              0.5555555555555556,
              "#d8576b"
             ],
             [
              0.6666666666666666,
              "#ed7953"
             ],
             [
              0.7777777777777778,
              "#fb9f3a"
             ],
             [
              0.8888888888888888,
              "#fdca26"
             ],
             [
              1,
              "#f0f921"
             ]
            ],
            "type": "heatmapgl"
           }
          ],
          "histogram": [
           {
            "marker": {
             "colorbar": {
              "outlinewidth": 0,
              "ticks": ""
             }
            },
            "type": "histogram"
           }
          ],
          "histogram2d": [
           {
            "colorbar": {
             "outlinewidth": 0,
             "ticks": ""
            },
            "colorscale": [
             [
              0,
              "#0d0887"
             ],
             [
              0.1111111111111111,
              "#46039f"
             ],
             [
              0.2222222222222222,
              "#7201a8"
             ],
             [
              0.3333333333333333,
              "#9c179e"
             ],
             [
              0.4444444444444444,
              "#bd3786"
             ],
             [
              0.5555555555555556,
              "#d8576b"
             ],
             [
              0.6666666666666666,
              "#ed7953"
             ],
             [
              0.7777777777777778,
              "#fb9f3a"
             ],
             [
              0.8888888888888888,
              "#fdca26"
             ],
             [
              1,
              "#f0f921"
             ]
            ],
            "type": "histogram2d"
           }
          ],
          "histogram2dcontour": [
           {
            "colorbar": {
             "outlinewidth": 0,
             "ticks": ""
            },
            "colorscale": [
             [
              0,
              "#0d0887"
             ],
             [
              0.1111111111111111,
              "#46039f"
             ],
             [
              0.2222222222222222,
              "#7201a8"
             ],
             [
              0.3333333333333333,
              "#9c179e"
             ],
             [
              0.4444444444444444,
              "#bd3786"
             ],
             [
              0.5555555555555556,
              "#d8576b"
             ],
             [
              0.6666666666666666,
              "#ed7953"
             ],
             [
              0.7777777777777778,
              "#fb9f3a"
             ],
             [
              0.8888888888888888,
              "#fdca26"
             ],
             [
              1,
              "#f0f921"
             ]
            ],
            "type": "histogram2dcontour"
           }
          ],
          "mesh3d": [
           {
            "colorbar": {
             "outlinewidth": 0,
             "ticks": ""
            },
            "type": "mesh3d"
           }
          ],
          "parcoords": [
           {
            "line": {
             "colorbar": {
              "outlinewidth": 0,
              "ticks": ""
             }
            },
            "type": "parcoords"
           }
          ],
          "pie": [
           {
            "automargin": true,
            "type": "pie"
           }
          ],
          "scatter": [
           {
            "marker": {
             "colorbar": {
              "outlinewidth": 0,
              "ticks": ""
             }
            },
            "type": "scatter"
           }
          ],
          "scatter3d": [
           {
            "line": {
             "colorbar": {
              "outlinewidth": 0,
              "ticks": ""
             }
            },
            "marker": {
             "colorbar": {
              "outlinewidth": 0,
              "ticks": ""
             }
            },
            "type": "scatter3d"
           }
          ],
          "scattercarpet": [
           {
            "marker": {
             "colorbar": {
              "outlinewidth": 0,
              "ticks": ""
             }
            },
            "type": "scattercarpet"
           }
          ],
          "scattergeo": [
           {
            "marker": {
             "colorbar": {
              "outlinewidth": 0,
              "ticks": ""
             }
            },
            "type": "scattergeo"
           }
          ],
          "scattergl": [
           {
            "marker": {
             "colorbar": {
              "outlinewidth": 0,
              "ticks": ""
             }
            },
            "type": "scattergl"
           }
          ],
          "scattermapbox": [
           {
            "marker": {
             "colorbar": {
              "outlinewidth": 0,
              "ticks": ""
             }
            },
            "type": "scattermapbox"
           }
          ],
          "scatterpolar": [
           {
            "marker": {
             "colorbar": {
              "outlinewidth": 0,
              "ticks": ""
             }
            },
            "type": "scatterpolar"
           }
          ],
          "scatterpolargl": [
           {
            "marker": {
             "colorbar": {
              "outlinewidth": 0,
              "ticks": ""
             }
            },
            "type": "scatterpolargl"
           }
          ],
          "scatterternary": [
           {
            "marker": {
             "colorbar": {
              "outlinewidth": 0,
              "ticks": ""
             }
            },
            "type": "scatterternary"
           }
          ],
          "surface": [
           {
            "colorbar": {
             "outlinewidth": 0,
             "ticks": ""
            },
            "colorscale": [
             [
              0,
              "#0d0887"
             ],
             [
              0.1111111111111111,
              "#46039f"
             ],
             [
              0.2222222222222222,
              "#7201a8"
             ],
             [
              0.3333333333333333,
              "#9c179e"
             ],
             [
              0.4444444444444444,
              "#bd3786"
             ],
             [
              0.5555555555555556,
              "#d8576b"
             ],
             [
              0.6666666666666666,
              "#ed7953"
             ],
             [
              0.7777777777777778,
              "#fb9f3a"
             ],
             [
              0.8888888888888888,
              "#fdca26"
             ],
             [
              1,
              "#f0f921"
             ]
            ],
            "type": "surface"
           }
          ],
          "table": [
           {
            "cells": {
             "fill": {
              "color": "#EBF0F8"
             },
             "line": {
              "color": "white"
             }
            },
            "header": {
             "fill": {
              "color": "#C8D4E3"
             },
             "line": {
              "color": "white"
             }
            },
            "type": "table"
           }
          ]
         },
         "layout": {
          "annotationdefaults": {
           "arrowcolor": "#2a3f5f",
           "arrowhead": 0,
           "arrowwidth": 1
          },
          "coloraxis": {
           "colorbar": {
            "outlinewidth": 0,
            "ticks": ""
           }
          },
          "colorscale": {
           "diverging": [
            [
             0,
             "#8e0152"
            ],
            [
             0.1,
             "#c51b7d"
            ],
            [
             0.2,
             "#de77ae"
            ],
            [
             0.3,
             "#f1b6da"
            ],
            [
             0.4,
             "#fde0ef"
            ],
            [
             0.5,
             "#f7f7f7"
            ],
            [
             0.6,
             "#e6f5d0"
            ],
            [
             0.7,
             "#b8e186"
            ],
            [
             0.8,
             "#7fbc41"
            ],
            [
             0.9,
             "#4d9221"
            ],
            [
             1,
             "#276419"
            ]
           ],
           "sequential": [
            [
             0,
             "#0d0887"
            ],
            [
             0.1111111111111111,
             "#46039f"
            ],
            [
             0.2222222222222222,
             "#7201a8"
            ],
            [
             0.3333333333333333,
             "#9c179e"
            ],
            [
             0.4444444444444444,
             "#bd3786"
            ],
            [
             0.5555555555555556,
             "#d8576b"
            ],
            [
             0.6666666666666666,
             "#ed7953"
            ],
            [
             0.7777777777777778,
             "#fb9f3a"
            ],
            [
             0.8888888888888888,
             "#fdca26"
            ],
            [
             1,
             "#f0f921"
            ]
           ],
           "sequentialminus": [
            [
             0,
             "#0d0887"
            ],
            [
             0.1111111111111111,
             "#46039f"
            ],
            [
             0.2222222222222222,
             "#7201a8"
            ],
            [
             0.3333333333333333,
             "#9c179e"
            ],
            [
             0.4444444444444444,
             "#bd3786"
            ],
            [
             0.5555555555555556,
             "#d8576b"
            ],
            [
             0.6666666666666666,
             "#ed7953"
            ],
            [
             0.7777777777777778,
             "#fb9f3a"
            ],
            [
             0.8888888888888888,
             "#fdca26"
            ],
            [
             1,
             "#f0f921"
            ]
           ]
          },
          "colorway": [
           "#636efa",
           "#EF553B",
           "#00cc96",
           "#ab63fa",
           "#FFA15A",
           "#19d3f3",
           "#FF6692",
           "#B6E880",
           "#FF97FF",
           "#FECB52"
          ],
          "font": {
           "color": "#2a3f5f"
          },
          "geo": {
           "bgcolor": "white",
           "lakecolor": "white",
           "landcolor": "#E5ECF6",
           "showlakes": true,
           "showland": true,
           "subunitcolor": "white"
          },
          "hoverlabel": {
           "align": "left"
          },
          "hovermode": "closest",
          "mapbox": {
           "style": "light"
          },
          "paper_bgcolor": "white",
          "plot_bgcolor": "#E5ECF6",
          "polar": {
           "angularaxis": {
            "gridcolor": "white",
            "linecolor": "white",
            "ticks": ""
           },
           "bgcolor": "#E5ECF6",
           "radialaxis": {
            "gridcolor": "white",
            "linecolor": "white",
            "ticks": ""
           }
          },
          "scene": {
           "xaxis": {
            "backgroundcolor": "#E5ECF6",
            "gridcolor": "white",
            "gridwidth": 2,
            "linecolor": "white",
            "showbackground": true,
            "ticks": "",
            "zerolinecolor": "white"
           },
           "yaxis": {
            "backgroundcolor": "#E5ECF6",
            "gridcolor": "white",
            "gridwidth": 2,
            "linecolor": "white",
            "showbackground": true,
            "ticks": "",
            "zerolinecolor": "white"
           },
           "zaxis": {
            "backgroundcolor": "#E5ECF6",
            "gridcolor": "white",
            "gridwidth": 2,
            "linecolor": "white",
            "showbackground": true,
            "ticks": "",
            "zerolinecolor": "white"
           }
          },
          "shapedefaults": {
           "line": {
            "color": "#2a3f5f"
           }
          },
          "ternary": {
           "aaxis": {
            "gridcolor": "white",
            "linecolor": "white",
            "ticks": ""
           },
           "baxis": {
            "gridcolor": "white",
            "linecolor": "white",
            "ticks": ""
           },
           "bgcolor": "#E5ECF6",
           "caxis": {
            "gridcolor": "white",
            "linecolor": "white",
            "ticks": ""
           }
          },
          "title": {
           "x": 0.05
          },
          "xaxis": {
           "automargin": true,
           "gridcolor": "white",
           "linecolor": "white",
           "ticks": "",
           "title": {
            "standoff": 15
           },
           "zerolinecolor": "white",
           "zerolinewidth": 2
          },
          "yaxis": {
           "automargin": true,
           "gridcolor": "white",
           "linecolor": "white",
           "ticks": "",
           "title": {
            "standoff": 15
           },
           "zerolinecolor": "white",
           "zerolinewidth": 2
          }
         }
        },
        "title": {
         "text": "Optimal share of UBI spending on children in order to"
        },
        "width": 1000,
        "xaxis": {
         "anchor": "y",
         "domain": [
          0,
          1
         ],
         "range": [
          0,
          3050
         ],
         "tickangle": 0,
         "tickfont": {
          "size": 14
         },
         "tickprefix": "$",
         "ticksuffix": "B",
         "title": {
          "font": {
           "color": "black",
           "family": "Roboto",
           "size": 14
          },
          "standoff": 25,
          "text": "Funding in billions"
         },
         "type": "linear"
        },
        "yaxis": {
         "anchor": "x",
         "domain": [
          0,
          1
         ],
         "range": [
          0,
          105
         ],
         "tickfont": {
          "size": 14
         },
         "ticksuffix": "%",
         "title": {
          "font": {
           "color": "black",
           "family": "Roboto",
           "size": 14
          },
          "standoff": 25,
          "text": "Children's share of UBI spending"
         },
         "type": "linear"
        }
       }
      },
      "image/png": "[encoded data removed]"
     },
     "metadata": {},
     "output_type": "display_data"
    }
   ],
   "source": [
    "summary = pd.read_csv(\n",
    "\"https://github.com/ngpsu22/blog/raw/master/children_share_funding_summary%20(4).csv.gz\",\n",
    "   compression='gzip')\n",
    "\n",
    "optimal_poverty_gap = summary.sort_values('poverty_gap').drop_duplicates('funding_billions', keep='first')\n",
    "# Drop rows where funding level is 0\n",
    "optimal_poverty_gap = optimal_poverty_gap.drop(\n",
    "    optimal_poverty_gap[optimal_poverty_gap.funding_billions==0].index\n",
    "    ) \n",
    "\n",
    "optimal_poverty_rate = summary.sort_values('poverty_rate').drop_duplicates('funding_billions', keep='first')\n",
    "# Drop rows where funding level is 0\n",
    "optimal_poverty_rate = optimal_poverty_rate.drop(\n",
    "    optimal_poverty_rate[optimal_poverty_rate.funding_billions==0].index\n",
    "    ) \n",
    "\n",
    "optimal_inequality = summary.sort_values('gini').drop_duplicates('funding_billions', keep='first')\n",
    "# Drop rows where funding level is 0\n",
    "optimal_inequality = optimal_inequality.drop(\n",
    "    optimal_inequality[optimal_inequality.funding_billions==0].index\n",
    "    ) \n",
    "\n",
    "optimal_winners = summary.sort_values('percent_better_off').drop_duplicates('funding_billions', keep='last')\n",
    "optimal_winners = optimal_winners.drop(\n",
    "    optimal_winners[optimal_winners.funding_billions==0].index\n",
    "    ) \n",
    "\n",
    "# Define adult population size, as determined in data preprocessing\n",
    "adult_pop = 252117111.14000002\n",
    "# Define child population size\n",
    "child_pop = 73151070.56999998\n",
    "# Calculate total population\n",
    "pop = child_pop+adult_pop\n",
    "\n",
    "# Create figure\n",
    "fig = px.line()\n",
    "\n",
    "names = {0:\"minimize poverty\",\n",
    "       1: \"minimize inequality\",\n",
    "       2: \"maximize winners\"}\n",
    "\n",
    "colors = {0:\"blue\",\n",
    "       1: \"black\",\n",
    "       2: \"orange\"}\n",
    "\n",
    "# Add inequality trace\n",
    "fig.add_trace(\n",
    "      go.Scatter(\n",
    "          x=optimal_inequality['funding_billions'],\n",
    "          y=optimal_inequality['child_percent_funding'],\n",
    "          mode=\"markers+lines\",\n",
    "          name=\"Minimize Gini index\",\n",
    "          # assign numpy array with child & adult ubi to customdata argument\n",
    "          customdata = np.stack(\n",
    "          (optimal_inequality['monthly_child_ubi'],\n",
    "           optimal_inequality['monthly_adult_ubi'],\n",
    "           optimal_inequality['gini']),\n",
    "          axis=-1),\n",
    "          # add customdata to hovertemplate\n",
    "          hovertemplate = ('<i>Children\\'s Share of Spending</i>: %{y:.0f}%<br>'+\\\n",
    "                        '<br><b>Child UBI/mo</b>: $%{customdata[0]: .0f}'+\\\n",
    "                        '<br><b>Adult UBI/mo </b>: $%{customdata[1]: .0f}<br>'\n",
    "                        '<br><b>Gini </b>: %{customdata[2]: .3f}<br>'\n",
    "                          ),\n",
    "          line=dict(\n",
    "              color='#499167'\n",
    "          )\n",
    "      )\n",
    "  )\n",
    "\n",
    "# Add poverty gap trace\n",
    "fig.add_trace(\n",
    "      go.Scatter(\n",
    "          x=optimal_poverty_gap['funding_billions'],\n",
    "          y=optimal_poverty_gap['child_percent_funding'],\n",
    "          mode=\"markers+lines\",\n",
    "          name=\"Minimize poverty gap\",\n",
    "          # assign numpy array with child & adult ubi to customdata argument\n",
    "          customdata = np.stack(\n",
    "          (optimal_poverty_gap['monthly_child_ubi'],\n",
    "           optimal_poverty_gap['monthly_adult_ubi'],\n",
    "           optimal_poverty_gap['poverty_gap']/1e9),\n",
    "          axis=-1),\n",
    "          # add customdata to hovertemplate\n",
    "          hovertemplate = ('<i>Children\\'s Share of Spending</i>: %{y:.0f}%<br>'+\\\n",
    "                        '<br><b>Child UBI/mo</b>: $%{customdata[0]: .0f}'+\\\n",
    "                        '<br><b>Adult UBI/mo </b>: $%{customdata[1]: .0f}<br>'\n",
    "                        '<br><b>Poverty Gap </b>: $%{customdata[2]: .0f} billion<br>'\n",
    "                          ),\n",
    "          line=dict(\n",
    "              color=DARK_BLUE\n",
    "          )\n",
    "      )\n",
    "  )\n",
    "\n",
    "# Add poverty gap trace\n",
    "fig.add_trace(\n",
    "      go.Scatter(\n",
    "          x=optimal_poverty_rate['funding_billions'],\n",
    "          y=optimal_poverty_rate['child_percent_funding'],\n",
    "          mode=\"markers+lines\",\n",
    "          name=\"Minimize poverty rate\",\n",
    "          # assign numpy array with child & adult ubi to customdata argument\n",
    "          customdata = np.stack(\n",
    "          (optimal_poverty_rate['monthly_child_ubi'],\n",
    "           optimal_poverty_rate['monthly_adult_ubi'],\n",
    "           optimal_poverty_rate['poverty_rate']),\n",
    "          axis=-1),\n",
    "          # add customdata to hovertemplate\n",
    "          hovertemplate = ('<i>Children\\'s Share of Spending</i>: %{y:.0f}%<br>'+\\\n",
    "                        '<br><b>Child UBI/mo</b>: $%{customdata[0]: .0f}'+\\\n",
    "                        '<br><b>Adult UBI/mo </b>: $%{customdata[1]: .0f}<br>'\n",
    "                        '<br><b>Poverty rate </b>: %%{customdata[2]: .0f}%<br>'\n",
    "                          ),\n",
    "          line=dict(\n",
    "              color=LIGHT_BLUE\n",
    "          )\n",
    "      )\n",
    "  )\n",
    "\n",
    "\n",
    "ratio = (child_pop / pop) * 100\n",
    "\n",
    "fig.add_shape(\n",
    "    type=\"line\", line=dict(dash=\"dot\", color=GRAY),\n",
    "    x0=-1, x1=3000, y0=ratio, y1=ratio\n",
    ")\n",
    "\n",
    "# plot line where adult benefit is same size as child benefit\n",
    "fig.add_annotation(\n",
    "    text=\"Adult UBI = Child UBI\",\n",
    "    xref=\"paper\",\n",
    "    yref=\"paper\",\n",
    "    x=1,\n",
    "    y=0.22,\n",
    "    showarrow=False,\n",
    "    font=dict(\n",
    "              color=GRAY,\n",
    "              size=12\n",
    "            ))\n",
    "\n",
    "fig.update_xaxes(\n",
    "        tickangle = 0,\n",
    "        title_text = \"Funding in billions\",\n",
    "        tickfont = {\"size\": 14},\n",
    "        title_standoff = 25,\n",
    "        ticksuffix='B',\n",
    "        tickprefix='$',\n",
    "        range=[0,3050])\n",
    "\n",
    "fig.update_yaxes(\n",
    "        title_text = \"Children\\'s share of UBI spending\",\n",
    "        ticksuffix =\"%\",\n",
    "        tickfont = {'size':14},\n",
    "        title_standoff = 25,\n",
    "        range=[0,105])\n",
    "\n",
    "fig.update_xaxes(title_font=dict(size=14, family='Roboto', color='black'))\n",
    "fig.update_yaxes(title_font=dict(size=14, family='Roboto', color='black'))\n",
    "fig.update_layout(\n",
    "    title_text='Optimal share of UBI spending on children in order to',\n",
    "    hoverlabel_align = 'right',\n",
    "    margin_b=90)\n",
    "\n",
    "fig.update_layout(legend=dict(\n",
    "    yanchor=\"top\",\n",
    "    y=0.99,\n",
    "    xanchor=\"left\",\n",
    "    x=0.7,\n",
    "    \n",
    "))\n",
    "\n",
    "fig.update_layout(plot_bgcolor='white', height=600, width=1000, hovermode=\"x\")\n",
    "\n",
    "fig.add_layout_image(\n",
    "    dict(\n",
    "        source=\"https://raw.githubusercontent.com/UBICenter/blog/master/jb/_static/ubi_center_logo_wide_blue.png\",\n",
    "        # See https://github.com/plotly/plotly.py/issues/2975.\n",
    "        # source=\"../_static/ubi_center_logo_wide_blue.png\",\n",
    "        xref=\"paper\", yref=\"paper\",\n",
    "        x=1, y=-0.15,\n",
    "        sizex=0.12, sizey=0.12,\n",
    "        xanchor=\"right\", yanchor=\"bottom\"\n",
    "        )\n",
    "    )\n",
    "    \n",
    "fig.update_traces(\n",
    "    mode='markers+lines',\n",
    "    #  hovertemplate=None\n",
    "     )\n",
    "\n",
    "fig.show(config=CONFIG)"
   ]
  },
  {
   "cell_type": "markdown",
   "metadata": {},
   "source": [
    "The next chart shows the monthly amount given to children and adults under each optimization.  Because the poverty gap is less volatile to changes at the margin, the UBI amounts increases are nearly linear. At the highest level of spending in our model, \\$3 trillion, adults would receive \\$942 per month and children would receive \\$171 while optimizing for poverty gap reduction. Poverty rate amounts are much more erratic, while inequality amounts appear semi logarithmic and exponential for adults and children respectively."
   ]
  },
  {
   "cell_type": "code",
   "execution_count": 12,
   "metadata": {
    "colab": {
     "base_uri": "https://localhost:8080/",
     "height": 617
    },
    "id": "ghe7E7CMmY97",
    "outputId": "c810e7d0-b8df-4233-e3b3-4a17006131a1",
    "tags": [
     "hide-input"
    ]
   },
   "outputs": [
    {
     "data": {
      "application/vnd.plotly.v1+json": {
       "config": {
        "displayModeBar": false,
        "plotlyServerURL": "https://plot.ly"
       },
       "data": [
        {
         "customdata": [
          [
           171,
           28.666442832793713
          ],
          [
           168,
           29.08101985066322
          ],
          [
           165,
           29.536641420691602
          ],
          [
           162,
           30.046071309262157
          ],
          [
           159,
           30.592103370416933
          ],
          [
           157,
           31.172658838223427
          ],
          [
           154,
           31.786071253083733
          ],
          [
           151,
           32.43180303169776
          ],
          [
           148,
           33.12166264807933
          ],
          [
           145,
           33.85711216933864
          ],
          [
           142,
           34.63107733336127
          ],
          [
           140,
           35.430901911085094
          ],
          [
           137,
           36.26949752715846
          ],
          [
           134,
           37.150672201282816
          ],
          [
           131,
           38.07645601843419
          ],
          [
           128,
           39.051349428091754
          ],
          [
           125,
           40.06863132888471
          ],
          [
           122,
           41.12644235914754
          ],
          [
           120,
           42.23196485174465
          ],
          [
           117,
           43.38473065584097
          ],
          [
           114,
           44.59774922675464
          ],
          [
           111,
           45.85983838290487
          ],
          [
           108,
           47.17946567236855
          ],
          [
           105,
           48.56297611152167
          ],
          [
           103,
           49.99182267408873
          ],
          [
           100,
           51.497832169415965
          ],
          [
           97,
           53.06772403655377
          ],
          [
           94,
           54.68715241506797
          ],
          [
           91,
           56.36090457311112
          ],
          [
           106,
           58.091237258903014
          ],
          [
           103,
           59.87731997506795
          ],
          [
           99,
           61.73188602084537
          ],
          [
           96,
           63.65339054419633
          ],
          [
           92,
           65.63835569738683
          ],
          [
           89,
           67.7042077357141
          ],
          [
           85,
           69.83858772325846
          ],
          [
           82,
           72.04186112569285
          ],
          [
           79,
           74.32505149711051
          ],
          [
           75,
           76.6928776701677
          ],
          [
           72,
           79.14736327280963
          ],
          [
           68,
           81.68758851639774
          ],
          [
           76,
           84.3151831515239
          ],
          [
           72,
           87.04139130189766
          ],
          [
           68,
           89.88746531580288
          ],
          [
           64,
           92.8457426813486
          ],
          [
           68,
           95.91584946550383
          ],
          [
           64,
           99.11676635615824
          ],
          [
           59,
           102.43567545454384
          ],
          [
           55,
           105.85461476980507
          ],
          [
           56,
           109.38738838825843
          ],
          [
           63,
           113.05225678296895
          ],
          [
           51,
           116.869986160539
          ],
          [
           50,
           120.83549340532913
          ],
          [
           48,
           124.93189943281813
          ],
          [
           44,
           129.18040485315407
          ],
          [
           43,
           133.57665098980652
          ],
          [
           39,
           138.12206670299955
          ],
          [
           38,
           142.83951864896744
          ],
          [
           31,
           147.7133594306196
          ],
          [
           29,
           152.7295429932342
          ]
         ],
         "hovertemplate": "<b>Child UBI/mo</b>: $%{customdata[0]: .0f}<br><b>Poverty Gap </b>: $%{customdata[1]: .0f} billion<br>",
         "line": {
          "color": "#1565C0"
         },
         "mode": "markers+lines",
         "name": "Poverty gap - child",
         "type": "scatter",
         "x": [
          3000,
          2950,
          2900,
          2850,
          2800,
          2750,
          2700,
          2650,
          2600,
          2550,
          2500,
          2450,
          2400,
          2350,
          2300,
          2250,
          2200,
          2150,
          2100,
          2050,
          2000,
          1950,
          1900,
          1850,
          1800,
          1750,
          1700,
          1650,
          1600,
          1550,
          1500,
          1450,
          1400,
          1350,
          1300,
          1250,
          1200,
          1150,
          1100,
          1050,
          1000,
          950,
          900,
          850,
          800,
          750,
          700,
          650,
          600,
          550,
          500,
          450,
          400,
          350,
          300,
          250,
          200,
          150,
          100,
          50
         ],
         "y": [
          171,
          168,
          165,
          162,
          159,
          157,
          154,
          151,
          148,
          145,
          142,
          140,
          137,
          134,
          131,
          128,
          125,
          122,
          120,
          117,
          114,
          111,
          108,
          105,
          103,
          100,
          97,
          94,
          91,
          106,
          103,
          99,
          96,
          92,
          89,
          85,
          82,
          79,
          75,
          72,
          68,
          76,
          72,
          68,
          64,
          68,
          64,
          59,
          55,
          56,
          63,
          51,
          50,
          48,
          44,
          43,
          39,
          38,
          31,
          29
         ]
        },
        {
         "customdata": [
          [
           942,
           28.666442832793713
          ],
          [
           926,
           29.08101985066322
          ],
          [
           911,
           29.536641420691602
          ],
          [
           895,
           30.046071309262157
          ],
          [
           879,
           30.592103370416933
          ],
          [
           864,
           31.172658838223427
          ],
          [
           848,
           31.786071253083733
          ],
          [
           832,
           32.43180303169776
          ],
          [
           816,
           33.12166264807933
          ],
          [
           801,
           33.85711216933864
          ],
          [
           785,
           34.63107733336127
          ],
          [
           769,
           35.430901911085094
          ],
          [
           754,
           36.26949752715846
          ],
          [
           738,
           37.150672201282816
          ],
          [
           722,
           38.07645601843419
          ],
          [
           707,
           39.051349428091754
          ],
          [
           691,
           40.06863132888471
          ],
          [
           675,
           41.12644235914754
          ],
          [
           659,
           42.23196485174465
          ],
          [
           644,
           43.38473065584097
          ],
          [
           628,
           44.59774922675464
          ],
          [
           612,
           45.85983838290487
          ],
          [
           597,
           47.17946567236855
          ],
          [
           581,
           48.56297611152167
          ],
          [
           565,
           49.99182267408873
          ],
          [
           550,
           51.497832169415965
          ],
          [
           534,
           53.06772403655377
          ],
          [
           518,
           54.68715241506797
          ],
          [
           502,
           56.36090457311112
          ],
          [
           482,
           58.091237258903014
          ],
          [
           466,
           59.87731997506795
          ],
          [
           451,
           61.73188602084537
          ],
          [
           435,
           63.65339054419633
          ],
          [
           419,
           65.63835569738683
          ],
          [
           404,
           67.7042077357141
          ],
          [
           388,
           69.83858772325846
          ],
          [
           373,
           72.04186112569285
          ],
          [
           357,
           74.32505149711051
          ],
          [
           342,
           76.6928776701677
          ],
          [
           326,
           79.14736327280963
          ],
          [
           311,
           81.68758851639774
          ],
          [
           292,
           84.3151831515239
          ],
          [
           277,
           87.04139130189766
          ],
          [
           261,
           89.88746531580288
          ],
          [
           246,
           92.8457426813486
          ],
          [
           228,
           95.91584946550383
          ],
          [
           213,
           99.11676635615824
          ],
          [
           198,
           102.43567545454384
          ],
          [
           182,
           105.85461476980507
          ],
          [
           165,
           109.38738838825843
          ],
          [
           147,
           113.05225678296895
          ],
          [
           134,
           116.869986160539
          ],
          [
           118,
           120.83549340532913
          ],
          [
           102,
           124.93189943281813
          ],
          [
           86,
           129.18040485315407
          ],
          [
           70,
           133.57665098980652
          ],
          [
           55,
           138.12206670299955
          ],
          [
           39,
           142.83951864896744
          ],
          [
           24,
           147.7133594306196
          ],
          [
           8,
           152.7295429932342
          ]
         ],
         "hovertemplate": "<b>Adult UBI/mo</b>: $%{customdata[0]: .0f}<br><b>Poverty gap </b>: %{customdata[1]: .0f} billion",
         "line": {
          "color": "#90CAF9"
         },
         "mode": "markers+lines",
         "name": "Poverty gap -adult",
         "type": "scatter",
         "x": [
          3000,
          2950,
          2900,
          2850,
          2800,
          2750,
          2700,
          2650,
          2600,
          2550,
          2500,
          2450,
          2400,
          2350,
          2300,
          2250,
          2200,
          2150,
          2100,
          2050,
          2000,
          1950,
          1900,
          1850,
          1800,
          1750,
          1700,
          1650,
          1600,
          1550,
          1500,
          1450,
          1400,
          1350,
          1300,
          1250,
          1200,
          1150,
          1100,
          1050,
          1000,
          950,
          900,
          850,
          800,
          750,
          700,
          650,
          600,
          550,
          500,
          450,
          400,
          350,
          300,
          250,
          200,
          150,
          100,
          50
         ],
         "y": [
          942,
          926,
          911,
          895,
          879,
          864,
          848,
          832,
          816,
          801,
          785,
          769,
          754,
          738,
          722,
          707,
          691,
          675,
          659,
          644,
          628,
          612,
          597,
          581,
          565,
          550,
          534,
          518,
          502,
          482,
          466,
          451,
          435,
          419,
          404,
          388,
          373,
          357,
          342,
          326,
          311,
          292,
          277,
          261,
          246,
          228,
          213,
          198,
          182,
          165,
          147,
          134,
          118,
          102,
          86,
          70,
          55,
          39,
          24,
          8
         ]
        },
        {
         "customdata": [
          [
           478,
           1.4911435709762464
          ],
          [
           370,
           1.5382976667730333
          ],
          [
           330,
           1.5774384334261666
          ],
          [
           325,
           1.628911885000743
          ],
          [
           287,
           1.6930590754523516
          ],
          [
           501,
           1.7429171061848463
          ],
          [
           400,
           1.8023104532329268
          ],
          [
           362,
           1.8606215025962185
          ],
          [
           326,
           1.9246255619252104
          ],
          [
           378,
           1.9906837262591464
          ],
          [
           399,
           2.0738783069824667
          ],
          [
           391,
           2.1405997578354405
          ],
          [
           437,
           2.218513649894502
          ],
          [
           402,
           2.288357020003953
          ],
          [
           367,
           2.373313325458501
          ],
          [
           461,
           2.4581016894940237
          ],
          [
           401,
           2.541364715276688
          ],
          [
           392,
           2.623279536640172
          ],
          [
           407,
           2.7094394058676707
          ],
          [
           327,
           2.8160704597188686
          ],
          [
           319,
           2.9012486159539645
          ],
          [
           400,
           2.9972846679150824
          ],
          [
           476,
           3.088109266388533
          ],
          [
           464,
           3.1698588671647543
          ],
          [
           451,
           3.263601467008675
          ],
          [
           459,
           3.3698770326612046
          ],
          [
           465,
           3.481426879957209
          ],
          [
           395,
           3.5884234629523126
          ],
          [
           419,
           3.7010336844853136
          ],
          [
           388,
           3.8398286651768174
          ],
          [
           359,
           3.9575340361686067
          ],
          [
           363,
           4.089267791295638
          ],
          [
           383,
           4.249607366245208
          ],
          [
           415,
           4.3852592574570535
          ],
          [
           370,
           4.519230729154372
          ],
          [
           384,
           4.673275369292809
          ],
          [
           383,
           4.844546861964257
          ],
          [
           262,
           5.027269167255677
          ],
          [
           238,
           5.200316164057178
          ],
          [
           395,
           5.391168182455174
          ],
          [
           273,
           5.569706570977222
          ],
          [
           271,
           5.746618526205922
          ],
          [
           256,
           5.9446356690490685
          ],
          [
           290,
           6.148205592955844
          ],
          [
           301,
           6.332144970873057
          ],
          [
           265,
           6.551885111529435
          ],
          [
           279,
           6.804664173925728
          ],
          [
           252,
           7.0947704656137685
          ],
          [
           314,
           7.340108969307767
          ],
          [
           313,
           7.6249323249552585
          ],
          [
           313,
           7.899979553767097
          ],
          [
           292,
           8.153996978913417
          ],
          [
           305,
           8.438754219886281
          ],
          [
           283,
           8.738140057406724
          ],
          [
           342,
           9.03301704628329
          ],
          [
           248,
           9.357830483135825
          ],
          [
           228,
           9.719757713094516
          ],
          [
           169,
           10.144702604025266
          ],
          [
           114,
           10.56442513354621
          ],
          [
           57,
           11.102583459023206
          ]
         ],
         "hovertemplate": "<b>Child UBI/mo</b>: $%{customdata[0]: .0f}<br><b>Poverty rate </b>: %{customdata[1]: .0f}%<br>",
         "line": {
          "color": "#484848"
         },
         "mode": "markers+lines",
         "name": "Poverty rate - child",
         "type": "scatter",
         "visible": "legendonly",
         "x": [
          3000,
          2950,
          2900,
          2850,
          2800,
          2750,
          2700,
          2650,
          2600,
          2550,
          2500,
          2450,
          2400,
          2350,
          2300,
          2250,
          2200,
          2150,
          2100,
          2050,
          2000,
          1950,
          1900,
          1850,
          1800,
          1750,
          1700,
          1650,
          1600,
          1550,
          1500,
          1450,
          1400,
          1350,
          1300,
          1250,
          1200,
          1150,
          1100,
          1050,
          1000,
          950,
          900,
          850,
          800,
          750,
          700,
          650,
          600,
          550,
          500,
          450,
          400,
          350,
          300,
          250,
          200,
          150,
          100,
          50
         ],
         "y": [
          478,
          370,
          330,
          325,
          287,
          501,
          400,
          362,
          326,
          378,
          399,
          391,
          437,
          402,
          367,
          461,
          401,
          392,
          407,
          327,
          319,
          400,
          476,
          464,
          451,
          459,
          465,
          395,
          419,
          388,
          359,
          363,
          383,
          415,
          370,
          384,
          383,
          262,
          238,
          395,
          273,
          271,
          256,
          290,
          301,
          265,
          279,
          252,
          314,
          313,
          313,
          292,
          305,
          283,
          342,
          248,
          228,
          169,
          114,
          57
         ]
        },
        {
         "customdata": [
          [
           853,
           1.4911435709762464
          ],
          [
           868,
           1.5382976667730333
          ],
          [
           863,
           1.5774384334261666
          ],
          [
           848,
           1.628911885000743
          ],
          [
           842,
           1.6930590754523516
          ],
          [
           764,
           1.7429171061848463
          ],
          [
           776,
           1.8023104532329268
          ],
          [
           771,
           1.8606215025962185
          ],
          [
           765,
           1.9246255619252104
          ],
          [
           733,
           1.9906837262591464
          ],
          [
           711,
           2.0738783069824667
          ],
          [
           696,
           2.1405997578354405
          ],
          [
           666,
           2.218513649894502
          ],
          [
           660,
           2.288357020003953
          ],
          [
           654,
           2.373313325458501
          ],
          [
           610,
           2.4581016894940237
          ],
          [
           611,
           2.541364715276688
          ],
          [
           597,
           2.623279536640172
          ],
          [
           576,
           2.7094394058676707
          ],
          [
           583,
           2.8160704597188686
          ],
          [
           569,
           2.9012486159539645
          ],
          [
           529,
           2.9972846679150824
          ],
          [
           490,
           3.088109266388533
          ],
          [
           477,
           3.1698588671647543
          ],
          [
           464,
           3.263601467008675
          ],
          [
           445,
           3.3698770326612046
          ],
          [
           427,
           3.481426879957209
          ],
          [
           431,
           3.5884234629523126
          ],
          [
           407,
           3.7010336844853136
          ],
          [
           400,
           3.8398286651768174
          ],
          [
           392,
           3.9575340361686067
          ],
          [
           374,
           4.089267791295638
          ],
          [
           352,
           4.249607366245208
          ],
          [
           326,
           4.3852592574570535
          ],
          [
           322,
           4.519230729154372
          ],
          [
           302,
           4.673275369292809
          ],
          [
           286,
           4.844546861964257
          ],
          [
           304,
           5.027269167255677
          ],
          [
           295,
           5.200316164057178
          ],
          [
           233,
           5.391168182455174
          ],
          [
           251,
           5.569706570977222
          ],
          [
           236,
           5.746618526205922
          ],
          [
           223,
           5.9446356690490685
          ],
          [
           197,
           6.148205592955844
          ],
          [
           177,
           6.332144970873057
          ],
          [
           171,
           6.551885111529435
          ],
          [
           150,
           6.804664173925728
          ],
          [
           142,
           7.0947704656137685
          ],
          [
           107,
           7.340108969307767
          ],
          [
           91,
           7.6249323249552585
          ],
          [
           74,
           7.899979553767097
          ],
          [
           64,
           8.153996978913417
          ],
          [
           44,
           8.438754219886281
          ],
          [
           34,
           8.738140057406724
          ],
          [
           0,
           9.03301704628329
          ],
          [
           11,
           9.357830483135825
          ],
          [
           0,
           9.719757713094516
          ],
          [
           0,
           10.144702604025266
          ],
          [
           0,
           10.56442513354621
          ],
          [
           0,
           11.102583459023206
          ]
         ],
         "hovertemplate": "<b>Adult UBI/mo</b>: $%{customdata[0]: .0f}<br><b>Poverty rate </b>: %{customdata[1]: .0f}%",
         "line": {
          "color": "#BDBDBD"
         },
         "mode": "markers+lines",
         "name": "Poverty rate -adult",
         "type": "scatter",
         "visible": "legendonly",
         "x": [
          3000,
          2950,
          2900,
          2850,
          2800,
          2750,
          2700,
          2650,
          2600,
          2550,
          2500,
          2450,
          2400,
          2350,
          2300,
          2250,
          2200,
          2150,
          2100,
          2050,
          2000,
          1950,
          1900,
          1850,
          1800,
          1750,
          1700,
          1650,
          1600,
          1550,
          1500,
          1450,
          1400,
          1350,
          1300,
          1250,
          1200,
          1150,
          1100,
          1050,
          1000,
          950,
          900,
          850,
          800,
          750,
          700,
          650,
          600,
          550,
          500,
          450,
          400,
          350,
          300,
          250,
          200,
          150,
          100,
          50
         ],
         "y": [
          853,
          868,
          863,
          848,
          842,
          764,
          776,
          771,
          765,
          733,
          711,
          696,
          666,
          660,
          654,
          610,
          611,
          597,
          576,
          583,
          569,
          529,
          490,
          477,
          464,
          445,
          427,
          431,
          407,
          400,
          392,
          374,
          352,
          326,
          322,
          302,
          286,
          304,
          295,
          233,
          251,
          236,
          223,
          197,
          177,
          171,
          150,
          142,
          107,
          91,
          74,
          64,
          44,
          34,
          0,
          11,
          0,
          0,
          0,
          0
         ]
        },
        {
         "customdata": [
          [
           1743,
           0.2490542962184269
          ],
          [
           1748,
           0.25186581499160915
          ],
          [
           1751,
           0.2546912382260032
          ],
          [
           1721,
           0.2575205589543699
          ],
          [
           1722,
           0.2603593108947718
          ],
          [
           1723,
           0.2632091651189035
          ],
          [
           1692,
           0.2660667665723991
          ],
          [
           1691,
           0.26892897281849465
          ],
          [
           1688,
           0.2718006220693112
          ],
          [
           1685,
           0.2746809603958958
          ],
          [
           1680,
           0.2775694050704378
          ],
          [
           1675,
           0.2804653935034549
          ],
          [
           1668,
           0.2833683739024921
          ],
          [
           1660,
           0.2862779445723805
          ],
          [
           1651,
           0.2891938493320683
          ],
          [
           1640,
           0.29211595287938125
          ],
          [
           1629,
           0.2950442517344801
          ],
          [
           1617,
           0.2979788669601094
          ],
          [
           1603,
           0.3009200315572845
          ],
          [
           1588,
           0.3038680368889641
          ],
          [
           1595,
           0.30681981998350283
          ],
          [
           1577,
           0.3097774108987585
          ],
          [
           1580,
           0.31274139833934217
          ],
          [
           1560,
           0.31570908954515864
          ],
          [
           1558,
           0.31868239916769875
          ],
          [
           1555,
           0.32166141305845103
          ],
          [
           1530,
           0.3246441991230164
          ],
          [
           1523,
           0.32763141658783995
          ],
          [
           1513,
           0.3306234911653679
          ],
          [
           1519,
           0.33361935753099403
          ],
          [
           1504,
           0.33661915829470945
          ],
          [
           1487,
           0.3396244413013582
          ],
          [
           1483,
           0.3426321484245947
          ],
          [
           1476,
           0.34564447778590274
          ],
          [
           1466,
           0.348660871016097
          ],
          [
           1424,
           0.3516970461073096
          ],
          [
           1367,
           0.35479226925786994
          ],
          [
           1310,
           0.3579472345053161
          ],
          [
           1253,
           0.3611608269656951
          ],
          [
           1196,
           0.3644320079048984
          ],
          [
           1139,
           0.3677598263726113
          ],
          [
           1082,
           0.3711431492143515
          ],
          [
           1025,
           0.3745808878350504
          ],
          [
           968,
           0.3780719677702751
          ],
          [
           911,
           0.3816152310770392
          ],
          [
           854,
           0.3852096073604042
          ],
          [
           797,
           0.3888539374392968
          ],
          [
           740,
           0.3925471057770672
          ],
          [
           684,
           0.396287878212902
          ],
          [
           627,
           0.4000751248373676
          ],
          [
           570,
           0.4039076822464729
          ],
          [
           513,
           0.40778437125923306
          ],
          [
           456,
           0.4117039565827321
          ],
          [
           399,
           0.41566516476586
          ],
          [
           342,
           0.4196667423011684
          ],
          [
           285,
           0.4237074764557516
          ],
          [
           228,
           0.4277861835852696
          ],
          [
           171,
           0.4319017351086241
          ],
          [
           114,
           0.4360529113097549
          ],
          [
           57,
           0.4402384760039884
          ]
         ],
         "hovertemplate": "<b>Child UBI/mo</b>: $%{customdata[0]: .0f}<br><b>Gini </b>: %{customdata[1]: .3f}<br>",
         "line": {
          "color": "#499167"
         },
         "mode": "markers+lines",
         "name": "Inequality - child",
         "type": "scatter",
         "visible": "legendonly",
         "x": [
          3000,
          2950,
          2900,
          2850,
          2800,
          2750,
          2700,
          2650,
          2600,
          2550,
          2500,
          2450,
          2400,
          2350,
          2300,
          2250,
          2200,
          2150,
          2100,
          2050,
          2000,
          1950,
          1900,
          1850,
          1800,
          1750,
          1700,
          1650,
          1600,
          1550,
          1500,
          1450,
          1400,
          1350,
          1300,
          1250,
          1200,
          1150,
          1100,
          1050,
          1000,
          950,
          900,
          850,
          800,
          750,
          700,
          650,
          600,
          550,
          500,
          450,
          400,
          350,
          300,
          250,
          200,
          150,
          100,
          50
         ],
         "y": [
          1743,
          1748,
          1751,
          1721,
          1722,
          1723,
          1692,
          1691,
          1688,
          1685,
          1680,
          1675,
          1668,
          1660,
          1651,
          1640,
          1629,
          1617,
          1603,
          1588,
          1595,
          1577,
          1580,
          1560,
          1558,
          1555,
          1530,
          1523,
          1513,
          1519,
          1504,
          1487,
          1483,
          1476,
          1466,
          1424,
          1367,
          1310,
          1253,
          1196,
          1139,
          1082,
          1025,
          968,
          911,
          854,
          797,
          740,
          684,
          627,
          570,
          513,
          456,
          399,
          342,
          285,
          228,
          171,
          114,
          57
         ]
        },
        {
         "customdata": [
          [
           486,
           0.2490542962184269
          ],
          [
           468,
           0.25186581499160915
          ],
          [
           451,
           0.2546912382260032
          ],
          [
           443,
           0.2575205589543699
          ],
          [
           426,
           0.2603593108947718
          ],
          [
           409,
           0.2632091651189035
          ],
          [
           402,
           0.2660667665723991
          ],
          [
           385,
           0.26892897281849465
          ],
          [
           370,
           0.2718006220693112
          ],
          [
           354,
           0.2746809603958958
          ],
          [
           339,
           0.2775694050704378
          ],
          [
           324,
           0.2804653935034549
          ],
          [
           309,
           0.2833683739024921
          ],
          [
           295,
           0.2862779445723805
          ],
          [
           281,
           0.2891938493320683
          ],
          [
           268,
           0.29211595287938125
          ],
          [
           255,
           0.2950442517344801
          ],
          [
           242,
           0.2979788669601094
          ],
          [
           229,
           0.3009200315572845
          ],
          [
           217,
           0.3038680368889641
          ],
          [
           198,
           0.30681981998350283
          ],
          [
           187,
           0.3097774108987585
          ],
          [
           170,
           0.31274139833934217
          ],
          [
           159,
           0.31570908954515864
          ],
          [
           143,
           0.31868239916769875
          ],
          [
           127,
           0.32166141305845103
          ],
          [
           118,
           0.3246441991230164
          ],
          [
           104,
           0.32763141658783995
          ],
          [
           90,
           0.3306234911653679
          ],
          [
           72,
           0.33361935753099403
          ],
          [
           59,
           0.33661915829470945
          ],
          [
           48,
           0.3396244413013582
          ],
          [
           32,
           0.3426321484245947
          ],
          [
           18,
           0.34564447778590274
          ],
          [
           4,
           0.348660871016097
          ],
          [
           0,
           0.3516970461073096
          ],
          [
           0,
           0.35479226925786994
          ],
          [
           0,
           0.3579472345053161
          ],
          [
           0,
           0.3611608269656951
          ],
          [
           0,
           0.3644320079048984
          ],
          [
           0,
           0.3677598263726113
          ],
          [
           0,
           0.3711431492143515
          ],
          [
           0,
           0.3745808878350504
          ],
          [
           0,
           0.3780719677702751
          ],
          [
           0,
           0.3816152310770392
          ],
          [
           0,
           0.3852096073604042
          ],
          [
           0,
           0.3888539374392968
          ],
          [
           0,
           0.3925471057770672
          ],
          [
           0,
           0.396287878212902
          ],
          [
           0,
           0.4000751248373676
          ],
          [
           0,
           0.4039076822464729
          ],
          [
           0,
           0.40778437125923306
          ],
          [
           0,
           0.4117039565827321
          ],
          [
           0,
           0.41566516476586
          ],
          [
           0,
           0.4196667423011684
          ],
          [
           0,
           0.4237074764557516
          ],
          [
           0,
           0.4277861835852696
          ],
          [
           0,
           0.4319017351086241
          ],
          [
           0,
           0.4360529113097549
          ],
          [
           0,
           0.4402384760039884
          ]
         ],
         "hovertemplate": "<b>Adult UBI/mo</b>: $%{customdata[0]: .0f}<br><b>Gini </b>: %{customdata[1]: .3f}<br>",
         "line": {
          "color": "#5FDD9D"
         },
         "mode": "markers+lines",
         "name": "Inequality -adult",
         "type": "scatter",
         "visible": "legendonly",
         "x": [
          3000,
          2950,
          2900,
          2850,
          2800,
          2750,
          2700,
          2650,
          2600,
          2550,
          2500,
          2450,
          2400,
          2350,
          2300,
          2250,
          2200,
          2150,
          2100,
          2050,
          2000,
          1950,
          1900,
          1850,
          1800,
          1750,
          1700,
          1650,
          1600,
          1550,
          1500,
          1450,
          1400,
          1350,
          1300,
          1250,
          1200,
          1150,
          1100,
          1050,
          1000,
          950,
          900,
          850,
          800,
          750,
          700,
          650,
          600,
          550,
          500,
          450,
          400,
          350,
          300,
          250,
          200,
          150,
          100,
          50
         ],
         "y": [
          486,
          468,
          451,
          443,
          426,
          409,
          402,
          385,
          370,
          354,
          339,
          324,
          309,
          295,
          281,
          268,
          255,
          242,
          229,
          217,
          198,
          187,
          170,
          159,
          143,
          127,
          118,
          104,
          90,
          72,
          59,
          48,
          32,
          18,
          4,
          0,
          0,
          0,
          0,
          0,
          0,
          0,
          0,
          0,
          0,
          0,
          0,
          0,
          0,
          0,
          0,
          0,
          0,
          0,
          0,
          0,
          0,
          0,
          0,
          0
         ]
        }
       ],
       "layout": {
        "height": 600,
        "hoverlabel": {
         "align": "right"
        },
        "hovermode": "x",
        "images": [
         {
          "sizex": 0.12,
          "sizey": 0.12,
          "source": "https://raw.githubusercontent.com/UBICenter/blog/master/jb/_static/ubi_center_logo_wide_blue.png",
          "x": 1,
          "xanchor": "right",
          "xref": "paper",
          "y": -0.15,
          "yanchor": "bottom",
          "yref": "paper"
         }
        ],
        "legend": {
         "font": {
          "family": "Roboto"
         },
         "tracegroupgap": 0,
         "x": 1.03,
         "xanchor": "left",
         "y": 1,
         "yanchor": "top"
        },
        "margin": {
         "b": 90,
         "t": 60
        },
        "plot_bgcolor": "white",
        "template": {
         "data": {
          "bar": [
           {
            "error_x": {
             "color": "#2a3f5f"
            },
            "error_y": {
             "color": "#2a3f5f"
            },
            "marker": {
             "line": {
              "color": "#E5ECF6",
              "width": 0.5
             }
            },
            "type": "bar"
           }
          ],
          "barpolar": [
           {
            "marker": {
             "line": {
              "color": "#E5ECF6",
              "width": 0.5
             }
            },
            "type": "barpolar"
           }
          ],
          "carpet": [
           {
            "aaxis": {
             "endlinecolor": "#2a3f5f",
             "gridcolor": "white",
             "linecolor": "white",
             "minorgridcolor": "white",
             "startlinecolor": "#2a3f5f"
            },
            "baxis": {
             "endlinecolor": "#2a3f5f",
             "gridcolor": "white",
             "linecolor": "white",
             "minorgridcolor": "white",
             "startlinecolor": "#2a3f5f"
            },
            "type": "carpet"
           }
          ],
          "choropleth": [
           {
            "colorbar": {
             "outlinewidth": 0,
             "ticks": ""
            },
            "type": "choropleth"
           }
          ],
          "contour": [
           {
            "colorbar": {
             "outlinewidth": 0,
             "ticks": ""
            },
            "colorscale": [
             [
              0,
              "#0d0887"
             ],
             [
              0.1111111111111111,
              "#46039f"
             ],
             [
              0.2222222222222222,
              "#7201a8"
             ],
             [
              0.3333333333333333,
              "#9c179e"
             ],
             [
              0.4444444444444444,
              "#bd3786"
             ],
             [
              0.5555555555555556,
              "#d8576b"
             ],
             [
              0.6666666666666666,
              "#ed7953"
             ],
             [
              0.7777777777777778,
              "#fb9f3a"
             ],
             [
              0.8888888888888888,
              "#fdca26"
             ],
             [
              1,
              "#f0f921"
             ]
            ],
            "type": "contour"
           }
          ],
          "contourcarpet": [
           {
            "colorbar": {
             "outlinewidth": 0,
             "ticks": ""
            },
            "type": "contourcarpet"
           }
          ],
          "heatmap": [
           {
            "colorbar": {
             "outlinewidth": 0,
             "ticks": ""
            },
            "colorscale": [
             [
              0,
              "#0d0887"
             ],
             [
              0.1111111111111111,
              "#46039f"
             ],
             [
              0.2222222222222222,
              "#7201a8"
             ],
             [
              0.3333333333333333,
              "#9c179e"
             ],
             [
              0.4444444444444444,
              "#bd3786"
             ],
             [
              0.5555555555555556,
              "#d8576b"
             ],
             [
              0.6666666666666666,
              "#ed7953"
             ],
             [
              0.7777777777777778,
              "#fb9f3a"
             ],
             [
              0.8888888888888888,
              "#fdca26"
             ],
             [
              1,
              "#f0f921"
             ]
            ],
            "type": "heatmap"
           }
          ],
          "heatmapgl": [
           {
            "colorbar": {
             "outlinewidth": 0,
             "ticks": ""
            },
            "colorscale": [
             [
              0,
              "#0d0887"
             ],
             [
              0.1111111111111111,
              "#46039f"
             ],
             [
              0.2222222222222222,
              "#7201a8"
             ],
             [
              0.3333333333333333,
              "#9c179e"
             ],
             [
              0.4444444444444444,
              "#bd3786"
             ],
             [
              0.5555555555555556,
              "#d8576b"
             ],
             [
              0.6666666666666666,
              "#ed7953"
             ],
             [
              0.7777777777777778,
              "#fb9f3a"
             ],
             [
              0.8888888888888888,
              "#fdca26"
             ],
             [
              1,
              "#f0f921"
             ]
            ],
            "type": "heatmapgl"
           }
          ],
          "histogram": [
           {
            "marker": {
             "colorbar": {
              "outlinewidth": 0,
              "ticks": ""
             }
            },
            "type": "histogram"
           }
          ],
          "histogram2d": [
           {
            "colorbar": {
             "outlinewidth": 0,
             "ticks": ""
            },
            "colorscale": [
             [
              0,
              "#0d0887"
             ],
             [
              0.1111111111111111,
              "#46039f"
             ],
             [
              0.2222222222222222,
              "#7201a8"
             ],
             [
              0.3333333333333333,
              "#9c179e"
             ],
             [
              0.4444444444444444,
              "#bd3786"
             ],
             [
              0.5555555555555556,
              "#d8576b"
             ],
             [
              0.6666666666666666,
              "#ed7953"
             ],
             [
              0.7777777777777778,
              "#fb9f3a"
             ],
             [
              0.8888888888888888,
              "#fdca26"
             ],
             [
              1,
              "#f0f921"
             ]
            ],
            "type": "histogram2d"
           }
          ],
          "histogram2dcontour": [
           {
            "colorbar": {
             "outlinewidth": 0,
             "ticks": ""
            },
            "colorscale": [
             [
              0,
              "#0d0887"
             ],
             [
              0.1111111111111111,
              "#46039f"
             ],
             [
              0.2222222222222222,
              "#7201a8"
             ],
             [
              0.3333333333333333,
              "#9c179e"
             ],
             [
              0.4444444444444444,
              "#bd3786"
             ],
             [
              0.5555555555555556,
              "#d8576b"
             ],
             [
              0.6666666666666666,
              "#ed7953"
             ],
             [
              0.7777777777777778,
              "#fb9f3a"
             ],
             [
              0.8888888888888888,
              "#fdca26"
             ],
             [
              1,
              "#f0f921"
             ]
            ],
            "type": "histogram2dcontour"
           }
          ],
          "mesh3d": [
           {
            "colorbar": {
             "outlinewidth": 0,
             "ticks": ""
            },
            "type": "mesh3d"
           }
          ],
          "parcoords": [
           {
            "line": {
             "colorbar": {
              "outlinewidth": 0,
              "ticks": ""
             }
            },
            "type": "parcoords"
           }
          ],
          "pie": [
           {
            "automargin": true,
            "type": "pie"
           }
          ],
          "scatter": [
           {
            "marker": {
             "colorbar": {
              "outlinewidth": 0,
              "ticks": ""
             }
            },
            "type": "scatter"
           }
          ],
          "scatter3d": [
           {
            "line": {
             "colorbar": {
              "outlinewidth": 0,
              "ticks": ""
             }
            },
            "marker": {
             "colorbar": {
              "outlinewidth": 0,
              "ticks": ""
             }
            },
            "type": "scatter3d"
           }
          ],
          "scattercarpet": [
           {
            "marker": {
             "colorbar": {
              "outlinewidth": 0,
              "ticks": ""
             }
            },
            "type": "scattercarpet"
           }
          ],
          "scattergeo": [
           {
            "marker": {
             "colorbar": {
              "outlinewidth": 0,
              "ticks": ""
             }
            },
            "type": "scattergeo"
           }
          ],
          "scattergl": [
           {
            "marker": {
             "colorbar": {
              "outlinewidth": 0,
              "ticks": ""
             }
            },
            "type": "scattergl"
           }
          ],
          "scattermapbox": [
           {
            "marker": {
             "colorbar": {
              "outlinewidth": 0,
              "ticks": ""
             }
            },
            "type": "scattermapbox"
           }
          ],
          "scatterpolar": [
           {
            "marker": {
             "colorbar": {
              "outlinewidth": 0,
              "ticks": ""
             }
            },
            "type": "scatterpolar"
           }
          ],
          "scatterpolargl": [
           {
            "marker": {
             "colorbar": {
              "outlinewidth": 0,
              "ticks": ""
             }
            },
            "type": "scatterpolargl"
           }
          ],
          "scatterternary": [
           {
            "marker": {
             "colorbar": {
              "outlinewidth": 0,
              "ticks": ""
             }
            },
            "type": "scatterternary"
           }
          ],
          "surface": [
           {
            "colorbar": {
             "outlinewidth": 0,
             "ticks": ""
            },
            "colorscale": [
             [
              0,
              "#0d0887"
             ],
             [
              0.1111111111111111,
              "#46039f"
             ],
             [
              0.2222222222222222,
              "#7201a8"
             ],
             [
              0.3333333333333333,
              "#9c179e"
             ],
             [
              0.4444444444444444,
              "#bd3786"
             ],
             [
              0.5555555555555556,
              "#d8576b"
             ],
             [
              0.6666666666666666,
              "#ed7953"
             ],
             [
              0.7777777777777778,
              "#fb9f3a"
             ],
             [
              0.8888888888888888,
              "#fdca26"
             ],
             [
              1,
              "#f0f921"
             ]
            ],
            "type": "surface"
           }
          ],
          "table": [
           {
            "cells": {
             "fill": {
              "color": "#EBF0F8"
             },
             "line": {
              "color": "white"
             }
            },
            "header": {
             "fill": {
              "color": "#C8D4E3"
             },
             "line": {
              "color": "white"
             }
            },
            "type": "table"
           }
          ]
         },
         "layout": {
          "annotationdefaults": {
           "arrowcolor": "#2a3f5f",
           "arrowhead": 0,
           "arrowwidth": 1
          },
          "coloraxis": {
           "colorbar": {
            "outlinewidth": 0,
            "ticks": ""
           }
          },
          "colorscale": {
           "diverging": [
            [
             0,
             "#8e0152"
            ],
            [
             0.1,
             "#c51b7d"
            ],
            [
             0.2,
             "#de77ae"
            ],
            [
             0.3,
             "#f1b6da"
            ],
            [
             0.4,
             "#fde0ef"
            ],
            [
             0.5,
             "#f7f7f7"
            ],
            [
             0.6,
             "#e6f5d0"
            ],
            [
             0.7,
             "#b8e186"
            ],
            [
             0.8,
             "#7fbc41"
            ],
            [
             0.9,
             "#4d9221"
            ],
            [
             1,
             "#276419"
            ]
           ],
           "sequential": [
            [
             0,
             "#0d0887"
            ],
            [
             0.1111111111111111,
             "#46039f"
            ],
            [
             0.2222222222222222,
             "#7201a8"
            ],
            [
             0.3333333333333333,
             "#9c179e"
            ],
            [
             0.4444444444444444,
             "#bd3786"
            ],
            [
             0.5555555555555556,
             "#d8576b"
            ],
            [
             0.6666666666666666,
             "#ed7953"
            ],
            [
             0.7777777777777778,
             "#fb9f3a"
            ],
            [
             0.8888888888888888,
             "#fdca26"
            ],
            [
             1,
             "#f0f921"
            ]
           ],
           "sequentialminus": [
            [
             0,
             "#0d0887"
            ],
            [
             0.1111111111111111,
             "#46039f"
            ],
            [
             0.2222222222222222,
             "#7201a8"
            ],
            [
             0.3333333333333333,
             "#9c179e"
            ],
            [
             0.4444444444444444,
             "#bd3786"
            ],
            [
             0.5555555555555556,
             "#d8576b"
            ],
            [
             0.6666666666666666,
             "#ed7953"
            ],
            [
             0.7777777777777778,
             "#fb9f3a"
            ],
            [
             0.8888888888888888,
             "#fdca26"
            ],
            [
             1,
             "#f0f921"
            ]
           ]
          },
          "colorway": [
           "#636efa",
           "#EF553B",
           "#00cc96",
           "#ab63fa",
           "#FFA15A",
           "#19d3f3",
           "#FF6692",
           "#B6E880",
           "#FF97FF",
           "#FECB52"
          ],
          "font": {
           "color": "#2a3f5f"
          },
          "geo": {
           "bgcolor": "white",
           "lakecolor": "white",
           "landcolor": "#E5ECF6",
           "showlakes": true,
           "showland": true,
           "subunitcolor": "white"
          },
          "hoverlabel": {
           "align": "left"
          },
          "hovermode": "closest",
          "mapbox": {
           "style": "light"
          },
          "paper_bgcolor": "white",
          "plot_bgcolor": "#E5ECF6",
          "polar": {
           "angularaxis": {
            "gridcolor": "white",
            "linecolor": "white",
            "ticks": ""
           },
           "bgcolor": "#E5ECF6",
           "radialaxis": {
            "gridcolor": "white",
            "linecolor": "white",
            "ticks": ""
           }
          },
          "scene": {
           "xaxis": {
            "backgroundcolor": "#E5ECF6",
            "gridcolor": "white",
            "gridwidth": 2,
            "linecolor": "white",
            "showbackground": true,
            "ticks": "",
            "zerolinecolor": "white"
           },
           "yaxis": {
            "backgroundcolor": "#E5ECF6",
            "gridcolor": "white",
            "gridwidth": 2,
            "linecolor": "white",
            "showbackground": true,
            "ticks": "",
            "zerolinecolor": "white"
           },
           "zaxis": {
            "backgroundcolor": "#E5ECF6",
            "gridcolor": "white",
            "gridwidth": 2,
            "linecolor": "white",
            "showbackground": true,
            "ticks": "",
            "zerolinecolor": "white"
           }
          },
          "shapedefaults": {
           "line": {
            "color": "#2a3f5f"
           }
          },
          "ternary": {
           "aaxis": {
            "gridcolor": "white",
            "linecolor": "white",
            "ticks": ""
           },
           "baxis": {
            "gridcolor": "white",
            "linecolor": "white",
            "ticks": ""
           },
           "bgcolor": "#E5ECF6",
           "caxis": {
            "gridcolor": "white",
            "linecolor": "white",
            "ticks": ""
           }
          },
          "title": {
           "x": 0.05
          },
          "xaxis": {
           "automargin": true,
           "gridcolor": "white",
           "linecolor": "white",
           "ticks": "",
           "title": {
            "standoff": 15
           },
           "zerolinecolor": "white",
           "zerolinewidth": 2
          },
          "yaxis": {
           "automargin": true,
           "gridcolor": "white",
           "linecolor": "white",
           "ticks": "",
           "title": {
            "standoff": 15
           },
           "zerolinecolor": "white",
           "zerolinewidth": 2
          }
         }
        },
        "title": {
         "text": "UBI amounts for each optimization"
        },
        "width": 1000,
        "xaxis": {
         "anchor": "y",
         "domain": [
          0,
          1
         ],
         "range": [
          0,
          3050
         ],
         "tickangle": 0,
         "tickfont": {
          "size": 14
         },
         "tickprefix": "$",
         "ticksuffix": "B",
         "title": {
          "font": {
           "color": "black",
           "family": "Roboto",
           "size": 14
          },
          "standoff": 25,
          "text": "Funding in billions"
         },
         "type": "linear"
        },
        "yaxis": {
         "anchor": "x",
         "autorange": true,
         "domain": [
          0,
          1
         ],
         "range": [
          -53.679245283018865,
          1003.6792452830189
         ],
         "tickfont": {
          "size": 14
         },
         "tickprefix": "$",
         "title": {
          "font": {
           "color": "black",
           "family": "Roboto",
           "size": 14
          },
          "standoff": 25,
          "text": "UBI amount"
         },
         "type": "linear"
        }
       }
      },
      "image/png": "[encoded data removed]"
     },
     "metadata": {},
     "output_type": "display_data"
    }
   ],
   "source": [
    "# Create UBI amount figure\n",
    "fig = px.line()\n",
    "\n",
    "names = {0:\"minimize poverty\",\n",
    "       1: \"minimize inequality\",\n",
    "       2: \"maximize winners\"}\n",
    "\n",
    "colors = {0:\"blue\",\n",
    "       1: \"black\",\n",
    "       2: \"orange\"}\n",
    "\n",
    "fig.add_trace(\n",
    "      go.Scatter(\n",
    "          x=optimal_poverty_gap['funding_billions'],\n",
    "          y=optimal_poverty_gap['monthly_child_ubi'],\n",
    "          mode=\"markers+lines\",\n",
    "          name=\"Poverty gap - child\",\n",
    "          # assign numpy array with child & adult ubi to customdata argument\n",
    "          customdata = np.stack(\n",
    "          (optimal_poverty_gap['monthly_child_ubi'],\n",
    "           optimal_poverty_gap['poverty_gap']/1e9),\n",
    "          axis=-1),\n",
    "          # add customdata to hovertemplate\n",
    "          hovertemplate = (\n",
    "                        '<b>Child UBI/mo</b>: $%{customdata[0]: .0f}'+\\\n",
    "                        '<br><b>Poverty Gap </b>: $%{customdata[1]: .0f} billion<br>'\n",
    "                          ),\n",
    "          line=dict(\n",
    "              color=DARK_BLUE\n",
    "          )\n",
    "      )\n",
    "  )\n",
    "\n",
    "fig.add_trace(\n",
    "      go.Scatter(\n",
    "          x=optimal_poverty_gap['funding_billions'],\n",
    "          y=optimal_poverty_gap['monthly_adult_ubi'],\n",
    "          mode=\"markers+lines\",\n",
    "          name=\"Poverty gap -adult\",\n",
    "          # assign numpy array with child & adult ubi to customdata argument\n",
    "          customdata = np.stack(\n",
    "          (optimal_poverty_gap['monthly_adult_ubi'],\n",
    "           optimal_poverty_gap['poverty_gap']/1e9),\n",
    "          axis=-1),\n",
    "          # add customdata to hovertemplate\n",
    "          hovertemplate = (\n",
    "                        '<b>Adult UBI/mo</b>: $%{customdata[0]: .0f}'+\\\n",
    "                        '<br><b>Poverty gap </b>: %{customdata[1]: .0f} billion'\n",
    "                          ),\n",
    "          line=dict(\n",
    "              color=LIGHT_BLUE\n",
    "          )\n",
    "      )\n",
    "  )\n",
    "\n",
    "fig.add_trace(\n",
    "      go.Scatter(\n",
    "          x=optimal_poverty_rate['funding_billions'],\n",
    "          y=optimal_poverty_rate['monthly_child_ubi'],\n",
    "          mode=\"markers+lines\",\n",
    "          name=\"Poverty rate - child\",\n",
    "          # assign numpy array with child & adult ubi to customdata argument\n",
    "          customdata = np.stack(\n",
    "          (optimal_poverty_rate['monthly_child_ubi'],\n",
    "           optimal_poverty_rate['poverty_rate']),\n",
    "          axis=-1),\n",
    "          # add customdata to hovertemplate\n",
    "          hovertemplate = (\n",
    "                        '<b>Child UBI/mo</b>: $%{customdata[0]: .0f}'+\\\n",
    "                        '<br><b>Poverty rate </b>: %{customdata[1]: .0f}%<br>'\n",
    "                          ),\n",
    "          line=dict(\n",
    "              color='#484848'\n",
    "          )\n",
    "      )\n",
    "  )\n",
    "\n",
    "fig.add_trace(\n",
    "      go.Scatter(\n",
    "          x=optimal_poverty_rate['funding_billions'],\n",
    "          y=optimal_poverty_rate['monthly_adult_ubi'],\n",
    "          mode=\"markers+lines\",\n",
    "          name=\"Poverty rate -adult\",\n",
    "          # assign numpy array with child & adult ubi to customdata argument\n",
    "          customdata = np.stack(\n",
    "          (optimal_poverty_rate['monthly_adult_ubi'],\n",
    "           optimal_poverty_rate['poverty_rate']),\n",
    "          axis=-1),\n",
    "          # add customdata to hovertemplate\n",
    "          hovertemplate = (\n",
    "                        '<b>Adult UBI/mo</b>: $%{customdata[0]: .0f}'+\\\n",
    "                        '<br><b>Poverty rate </b>: %{customdata[1]: .0f}%'\n",
    "                          ),\n",
    "          line=dict(\n",
    "              color=GRAY\n",
    "          )\n",
    "      )\n",
    "  )\n",
    "\n",
    "\n",
    "fig.add_trace(\n",
    "      go.Scatter(\n",
    "          x=optimal_inequality['funding_billions'],\n",
    "          y=optimal_inequality['monthly_child_ubi'],\n",
    "          mode=\"markers+lines\",\n",
    "          name=\"Inequality - child\",\n",
    "          # assign numpy array with child & adult ubi to customdata argument\n",
    "          customdata = np.stack(\n",
    "          (optimal_inequality['monthly_child_ubi'],\n",
    "           optimal_inequality['gini']),\n",
    "          axis=-1),\n",
    "          # add customdata to hovertemplate\n",
    "          hovertemplate = (\n",
    "                        '<b>Child UBI/mo</b>: $%{customdata[0]: .0f}'+\\\n",
    "                        '<br><b>Gini </b>: %{customdata[1]: .3f}<br>'\n",
    "                          ),\n",
    "          line=dict(\n",
    "              color='#499167'\n",
    "          )\n",
    "      )\n",
    "  )\n",
    "\n",
    "fig.add_trace(\n",
    "      go.Scatter(\n",
    "          x=optimal_inequality['funding_billions'],\n",
    "          y=optimal_inequality['monthly_adult_ubi'],\n",
    "          mode=\"markers+lines\",\n",
    "          name=\"Inequality -adult\",\n",
    "          # assign numpy array with child & adult ubi to customdata argument\n",
    "          customdata = np.stack(\n",
    "          (optimal_inequality['monthly_adult_ubi'],\n",
    "           optimal_inequality['gini']),\n",
    "          axis=-1),\n",
    "          # add customdata to hovertemplate\n",
    "          hovertemplate = (\n",
    "                        '<b>Adult UBI/mo</b>: $%{customdata[0]: .0f}'+\\\n",
    "                        '<br><b>Gini </b>: %{customdata[1]: .3f}<br>'\n",
    "                          ),\n",
    "          line=dict(\n",
    "              color='#5FDD9D'\n",
    "          )\n",
    "      )\n",
    "  )\n",
    "\n",
    "fig.update_xaxes(\n",
    "        tickangle = 0,\n",
    "        title_text = \"Funding in billions\",\n",
    "        tickfont = {\"size\": 14},\n",
    "        title_standoff = 25,\n",
    "        ticksuffix='B',\n",
    "        tickprefix='$',\n",
    "        range=[0,3050])\n",
    "\n",
    "fig.update_yaxes(\n",
    "        title_text = \"UBI amount\",\n",
    "        tickprefix =\"$\",\n",
    "        tickfont = {'size':14},\n",
    "        title_standoff = 25)\n",
    "\n",
    "fig.update_xaxes(title_font=dict(size=14, family='Roboto', color='black'))\n",
    "fig.update_yaxes(title_font=dict(size=14, family='Roboto', color='black'))\n",
    "fig.update_layout(\n",
    "    title_text='UBI amounts for each optimization',\n",
    "    hoverlabel_align = 'right', # new\n",
    "    margin_b=90) \n",
    "\n",
    "fig.update_layout(legend=dict(\n",
    "    yanchor=\"top\",\n",
    "    y=1,\n",
    "    xanchor=\"left\",\n",
    "    x=1.03,\n",
    "    font=dict(family='Roboto'),\n",
    "))\n",
    "\n",
    "fig.update_layout(plot_bgcolor='white', height=600, width=1000, hovermode=\"x\")\n",
    "fig.update_traces(\n",
    "    mode='markers+lines',\n",
    "    #  hovertemplate=None\n",
    "     )\n",
    "\n",
    "hide_line = ['Poverty rate - child', 'Poverty rate -adult',\n",
    "             'Inequality - child', 'Inequality -adult']\n",
    "fig.for_each_trace(lambda trace: trace.update(visible=\"legendonly\")\n",
    "                   if trace.name in hide_line else ())\n",
    "\n",
    "fig.add_layout_image(\n",
    "    dict(\n",
    "        source=\"https://raw.githubusercontent.com/UBICenter/blog/master/jb/_static/ubi_center_logo_wide_blue.png\",\n",
    "        # See https://github.com/plotly/plotly.py/issues/2975.\n",
    "        # source=\"../_static/ubi_center_logo_wide_blue.png\",\n",
    "        xref=\"paper\", yref=\"paper\",\n",
    "        x=1, y=-0.15,\n",
    "        sizex=0.12, sizey=0.12,\n",
    "        xanchor=\"right\", yanchor=\"bottom\"\n",
    "        )\n",
    "    )\n",
    "\n",
    "fig.show(config=CONFIG)"
   ]
  },
  {
   "cell_type": "markdown",
   "metadata": {},
   "source": [
    "Our research shows that different policy objectives and funding levels may lead to starkly different amounts of cash transfer funding going towards children. Yet, in all of our optimizations children were included in some capacity and often received a larger monthly amount than adults.  These results underline the importance of including children in UBI conversations and policy analysis."
   ]
  }
 ],
 "metadata": {
  "celltoolbar": "Tags",
  "colab": {
   "collapsed_sections": [],
   "name": "How much UBI spending should go to children - Graphs.ipynb",
   "provenance": []
  },
  "kernelspec": {
   "display_name": "Python 3",
   "language": "python",
   "name": "python3"
  },
  "language_info": {
   "codemirror_mode": {
    "name": "ipython",
    "version": 3
   },
   "file_extension": ".py",
   "mimetype": "text/x-python",
   "name": "python",
   "nbconvert_exporter": "python",
   "pygments_lexer": "ipython3",
   "version": "3.6.11"
  }
 },
 "nbformat": 4,
 "nbformat_minor": 4
}
